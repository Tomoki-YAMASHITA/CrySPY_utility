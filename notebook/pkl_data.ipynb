{
 "cells": [
  {
   "cell_type": "markdown",
   "metadata": {},
   "source": [
    "# 2024 May 27, updated\n",
    "for CrySPY 1.3.0"
   ]
  },
  {
   "cell_type": "markdown",
   "metadata": {},
   "source": [
    "# Import"
   ]
  },
  {
   "cell_type": "code",
   "execution_count": null,
   "metadata": {},
   "outputs": [],
   "source": [
    "#---------- import\n",
    "import gzip\n",
    "import matplotlib.pyplot as plt\n",
    "import numpy as np\n",
    "import pickle"
   ]
  },
  {
   "cell_type": "markdown",
   "metadata": {},
   "source": [
    "# Load function\n",
    "you can load *.gzip files."
   ]
  },
  {
   "cell_type": "code",
   "execution_count": null,
   "metadata": {},
   "outputs": [],
   "source": [
    "def load_data(filename):\n",
    "    if filename.endswith('.gz'):\n",
    "        with gzip.open(filename, 'rb') as f:\n",
    "            return pickle.load(f)\n",
    "    else:\n",
    "        with open(filename, 'rb') as f:\n",
    "            return pickle.load(f)"
   ]
  },
  {
   "cell_type": "markdown",
   "metadata": {},
   "source": [
    "# Common data\n",
    "## input_data.pkl"
   ]
  },
  {
   "cell_type": "code",
   "execution_count": null,
   "metadata": {},
   "outputs": [],
   "source": [
    "rin = load_data('input_data.pkl')"
   ]
  },
  {
   "cell_type": "markdown",
   "metadata": {},
   "source": [
    "Instance of ReadInput class"
   ]
  },
  {
   "cell_type": "code",
   "execution_count": null,
   "metadata": {},
   "outputs": [],
   "source": [
    "rin"
   ]
  },
  {
   "cell_type": "code",
   "execution_count": null,
   "metadata": {},
   "outputs": [],
   "source": [
    "print(rin.algo)\n",
    "print(rin.atype)"
   ]
  },
  {
   "cell_type": "markdown",
   "metadata": {},
   "source": [
    "## init_struc_data.pkl"
   ]
  },
  {
   "cell_type": "code",
   "execution_count": null,
   "metadata": {},
   "outputs": [],
   "source": [
    "init_struc_data = load_data('init_struc_data.pkl')"
   ]
  },
  {
   "cell_type": "markdown",
   "metadata": {},
   "source": [
    "### init_struc_data\n",
    "dict  \n",
    "key: structure ID  \n",
    "value: pymatgen Structure object  \n",
    "{0: struc0, 1: struc1, ...}  \n",
    "\n",
    "Example: initial structure data of ID 7\n",
    "``` python\n",
    "init_struc_data[7]\n",
    "```"
   ]
  },
  {
   "cell_type": "code",
   "execution_count": null,
   "metadata": {},
   "outputs": [],
   "source": [
    "init_struc_data[7]"
   ]
  },
  {
   "cell_type": "markdown",
   "metadata": {},
   "source": [
    "## opt_struc_data.pkl"
   ]
  },
  {
   "cell_type": "code",
   "execution_count": null,
   "metadata": {},
   "outputs": [],
   "source": [
    "opt_struc_data = load_data('opt_struc_data.pkl')"
   ]
  },
  {
   "cell_type": "markdown",
   "metadata": {},
   "source": [
    "### opt_struc_data\n",
    "dict  \n",
    "key: structure ID  \n",
    "value: pymatgen Structure object  \n",
    "{0: struc0, 1: struc1, ...}  \n",
    "\n",
    "\n",
    "Example: optimized structure data of ID 7\n",
    "``` python\n",
    "opt_struc_data[7]\n",
    "```"
   ]
  },
  {
   "cell_type": "code",
   "execution_count": null,
   "metadata": {},
   "outputs": [],
   "source": [
    "opt_struc_data[7]"
   ]
  },
  {
   "cell_type": "markdown",
   "metadata": {
    "toc-hr-collapsed": true
   },
   "source": [
    "## rslt_data.pkl"
   ]
  },
  {
   "cell_type": "code",
   "execution_count": null,
   "metadata": {},
   "outputs": [],
   "source": [
    "rslt_data = load_data('rslt_data.pkl')"
   ]
  },
  {
   "cell_type": "markdown",
   "metadata": {},
   "source": [
    "### rslt_data\n",
    "DataFrame  \n",
    "\n",
    "```\n",
    "   Spg_num  Spg_sym  Spg_num_opt Spg_sym_opt  E_eV_atom  Magmom   Opt\n",
    "0      168       P6          191      P6/mmm  -3.826916     NaN  done\n",
    "1       95   P4_322           95      P4_322  -3.978478     NaN  done\n",
    "2      191   P6/mmm          191      P6/mmm  -2.289173     NaN  done\n",
    "3      113  P-42_1m          113     P-42_1m  -3.773191     NaN  done\n",
    "4      128   P4/mnc          123      P4/mmm  -3.296904     NaN  done\n",
    "```"
   ]
  },
  {
   "cell_type": "code",
   "execution_count": null,
   "metadata": {},
   "outputs": [],
   "source": [
    "# ---------- sort by Energy\n",
    "rslt_data.sort_values(by=['E_eV_atom']).head(10)"
   ]
  },
  {
   "cell_type": "markdown",
   "metadata": {
    "toc-hr-collapsed": true
   },
   "source": [
    "## kpt_data.pkl"
   ]
  },
  {
   "cell_type": "code",
   "execution_count": null,
   "metadata": {},
   "outputs": [],
   "source": [
    "kpt_data = load_data('kpt_data.pkl')"
   ]
  },
  {
   "cell_type": "markdown",
   "metadata": {},
   "source": [
    "### kpt_data\n",
    "**kpt_data**: k-point data  \n",
    "- Type: dict\n",
    "  + The keys are structre IDs  \n",
    "  + The values are list of k-mesh in each stage  \n",
    "- String form: {0: [[2, ,2 ,2], [4, 4, 4,], [6, 6, 6,], ...], 1: ...}  \n",
    "\n",
    "Example: k-mesh of ID 7 stage 2\n",
    "``` python\n",
    "# kpt_data[ID][stage]\n",
    "# kpt_data[ID][0] <-- stage 1\n",
    "# kpt_data[ID][1] <-- stage 2\n",
    "is = 2\n",
    "kpt_data[7][is-1]\n",
    "```"
   ]
  },
  {
   "cell_type": "code",
   "execution_count": null,
   "metadata": {},
   "outputs": [],
   "source": [
    "kpt_data"
   ]
  },
  {
   "cell_type": "markdown",
   "metadata": {
    "toc-hr-collapsed": true
   },
   "source": [
    "## id_queueing.pkl"
   ]
  },
  {
   "cell_type": "code",
   "execution_count": null,
   "metadata": {},
   "outputs": [],
   "source": [
    "id_queueing = load_data('id_queueing.pkl')"
   ]
  },
  {
   "cell_type": "markdown",
   "metadata": {},
   "source": [
    "### id_queueing\n",
    "List  \n",
    "queueing IDs  \n",
    "\n",
    "e.g. [5, 6, 7, 8, 9]  "
   ]
  },
  {
   "cell_type": "code",
   "execution_count": null,
   "metadata": {},
   "outputs": [],
   "source": [
    "id_queueing"
   ]
  },
  {
   "cell_type": "markdown",
   "metadata": {},
   "source": [
    "## id_running.pkl"
   ]
  },
  {
   "cell_type": "code",
   "execution_count": null,
   "metadata": {},
   "outputs": [],
   "source": [
    "id_running = load_data('id_running.pkl')"
   ]
  },
  {
   "cell_type": "markdown",
   "metadata": {},
   "source": [
    "### id_running\n",
    "List  \n",
    "running IDs  \n",
    "\n",
    "e.g. [0, 1, 2, 3, 4]  "
   ]
  },
  {
   "cell_type": "code",
   "execution_count": null,
   "metadata": {},
   "outputs": [],
   "source": [
    "id_running"
   ]
  },
  {
   "cell_type": "markdown",
   "metadata": {
    "toc-hr-collapsed": true
   },
   "source": [
    "# Bayesian Optimizaiton"
   ]
  },
  {
   "cell_type": "markdown",
   "metadata": {
    "toc-hr-collapsed": true
   },
   "source": [
    "## n_selection.pkl"
   ]
  },
  {
   "cell_type": "code",
   "execution_count": null,
   "metadata": {},
   "outputs": [],
   "source": [
    "n_selection = load_data('n_selection.pkl')"
   ]
  },
  {
   "cell_type": "markdown",
   "metadata": {},
   "source": [
    "### n_selection\n",
    "Int  \n",
    "number of selection"
   ]
  },
  {
   "cell_type": "code",
   "execution_count": null,
   "metadata": {},
   "outputs": [],
   "source": [
    "n_selection"
   ]
  },
  {
   "cell_type": "markdown",
   "metadata": {},
   "source": [
    "## id_select_hist.pkl"
   ]
  },
  {
   "cell_type": "code",
   "execution_count": null,
   "metadata": {},
   "outputs": [],
   "source": [
    "id_select_hist = load_data('id_select_hist.pkl')"
   ]
  },
  {
   "cell_type": "markdown",
   "metadata": {},
   "source": [
    "### id_select_hist\n",
    "List  \n",
    "selection history  \n",
    "e.g. [[3, 9], [6, 4]..., ]\n",
    "  + IDs 3 and 9 were selected at first\n",
    "  + 6 and 4 were 2nd."
   ]
  },
  {
   "cell_type": "code",
   "execution_count": null,
   "metadata": {},
   "outputs": [],
   "source": [
    "id_select_hist"
   ]
  },
  {
   "cell_type": "markdown",
   "metadata": {
    "toc-hr-collapsed": true
   },
   "source": [
    "## init_dscrpt_data.pkl"
   ]
  },
  {
   "cell_type": "code",
   "execution_count": null,
   "metadata": {},
   "outputs": [],
   "source": [
    "init_dscrpt_data = load_data('init_dscrpt_data.pkl')"
   ]
  },
  {
   "cell_type": "markdown",
   "metadata": {},
   "source": [
    "### init_dscrpt_data\n",
    "Dict  \n",
    "descriptor data of initial structures  \n",
    "key: structure ID  \n",
    "value: descriptor data in numpy.ndarray  \n",
    "\n",
    "Example: init_dscrpt_data of ID 3\n",
    "``` python \n",
    "init_dscrpt_data[3]\n",
    "```"
   ]
  },
  {
   "cell_type": "code",
   "execution_count": null,
   "metadata": {},
   "outputs": [],
   "source": [
    "init_dscrpt_data[3]"
   ]
  },
  {
   "cell_type": "code",
   "execution_count": null,
   "metadata": {},
   "outputs": [],
   "source": [
    "plt.plot(init_dscrpt_data[3])"
   ]
  },
  {
   "cell_type": "markdown",
   "metadata": {},
   "source": [
    "## opt_dscrpt_data.pkl"
   ]
  },
  {
   "cell_type": "code",
   "execution_count": null,
   "metadata": {},
   "outputs": [],
   "source": [
    "opt_dscrpt_data = load_data('opt_dscrpt_data.pkl')"
   ]
  },
  {
   "cell_type": "markdown",
   "metadata": {},
   "source": [
    "### opt_dscrpt_data\n",
    "Dict  \n",
    "descriptor data of optimized structures  \n",
    "key: structure ID  \n",
    "value: descriptor data in numpy.ndarray  \n",
    "\n",
    " \n",
    "Example: opt_dscrpt_data of ID 3\n",
    "``` python \n",
    "opt_dscrpt_data[3]\n",
    "```"
   ]
  },
  {
   "cell_type": "code",
   "execution_count": null,
   "metadata": {},
   "outputs": [],
   "source": [
    "opt_dscrpt_data[3]"
   ]
  },
  {
   "cell_type": "code",
   "execution_count": null,
   "metadata": {},
   "outputs": [],
   "source": [
    "plt.plot(opt_dscrpt_data[3])"
   ]
  },
  {
   "cell_type": "markdown",
   "metadata": {},
   "source": [
    "## bo_mean.pkl"
   ]
  },
  {
   "cell_type": "code",
   "execution_count": null,
   "metadata": {},
   "outputs": [],
   "source": [
    "bo_mean = load_data('bo_mean.pkl')"
   ]
  },
  {
   "cell_type": "markdown",
   "metadata": {},
   "source": [
    "### bo_mean\n",
    "mean data for each selection  \n",
    "Dict  \n",
    "key: selection No.  \n",
    "value: dict  <-- key: structure ID, value: predictive mean  \n",
    "e.g.  {2: {0: 3.93, 1: 3.92, 2: 3.94, ...}, 3: {...}, ...}\n",
    "\n",
    "Example: mean data for each candidate at 2nd selection (no 1st selection data. 1st selection is random.)\n",
    "``` python \n",
    "bo_mean[2]\n",
    "```"
   ]
  },
  {
   "cell_type": "code",
   "execution_count": null,
   "metadata": {},
   "outputs": [],
   "source": [
    "bo_mean[2]"
   ]
  },
  {
   "cell_type": "markdown",
   "metadata": {},
   "source": [
    "### bo_var.pkl"
   ]
  },
  {
   "cell_type": "code",
   "execution_count": null,
   "metadata": {},
   "outputs": [],
   "source": [
    "bo_var = load_data('bo_var.pkl')"
   ]
  },
  {
   "cell_type": "markdown",
   "metadata": {},
   "source": [
    "### bo_var\n",
    "variance data for each selection  \n",
    "Dict  \n",
    "key: selection No.  \n",
    "value: dict  <-- key: structure ID, value: predictive variance  \n",
    "e.g.   {2: {0: 0.014, 1: 0.013, 2: 0.018, ...}, 3: {...}, ...}\n",
    "\n",
    "Example: variance data for each candidate at 2nd selection (1st selection is random)\n",
    "``` python \n",
    "bo_var[2]\n",
    "```"
   ]
  },
  {
   "cell_type": "code",
   "execution_count": null,
   "metadata": {},
   "outputs": [],
   "source": [
    "bo_var[2]"
   ]
  },
  {
   "cell_type": "markdown",
   "metadata": {},
   "source": [
    "## bo_score.pkl"
   ]
  },
  {
   "cell_type": "code",
   "execution_count": null,
   "metadata": {},
   "outputs": [],
   "source": [
    "bo_score = load_data('bo_score.pkl')"
   ]
  },
  {
   "cell_type": "markdown",
   "metadata": {},
   "source": [
    "### bo_score\n",
    "score data for each selection  \n",
    "Dict  \n",
    "key: selection No.  \n",
    "value: dict  <-- key: structure ID, value: score  \n",
    "e.g.   {2: {0: 4.076, 1: 3.995, 2: 4.010, ...}, 3: {...}, ...}\n",
    "\n",
    "Example: score data for each candidate at 2nd selection (1st selection is random)\n",
    "``` python \n",
    "bo_score[2]\n",
    "```"
   ]
  },
  {
   "cell_type": "code",
   "execution_count": null,
   "metadata": {},
   "outputs": [],
   "source": [
    "bo_score[2]"
   ]
  },
  {
   "cell_type": "markdown",
   "metadata": {
    "toc-hr-collapsed": false
   },
   "source": [
    "# LAQA"
   ]
  },
  {
   "cell_type": "markdown",
   "metadata": {},
   "source": [
    "## id_select_hist.pkl"
   ]
  },
  {
   "cell_type": "code",
   "execution_count": null,
   "metadata": {},
   "outputs": [],
   "source": [
    "id_select_hist = load_data('id_select_hist.pkl')"
   ]
  },
  {
   "cell_type": "markdown",
   "metadata": {},
   "source": [
    "### id_select_hist\n",
    "ID selection history  \n",
    "List  \n",
    "e.g. [[3, 9], [6, 4]..., ]"
   ]
  },
  {
   "cell_type": "code",
   "execution_count": null,
   "metadata": {},
   "outputs": [],
   "source": [
    "id_select_hist"
   ]
  },
  {
   "cell_type": "markdown",
   "metadata": {},
   "source": [
    "## tot_step_select.pkl"
   ]
  },
  {
   "cell_type": "code",
   "execution_count": null,
   "metadata": {},
   "outputs": [],
   "source": [
    "tot_step_select = load_data('tot_step_select.pkl')"
   ]
  },
  {
   "cell_type": "markdown",
   "metadata": {},
   "source": [
    "### tot_step_select\n",
    "total number of optimization steps in each selection  \n",
    "List  \n",
    "  + len(``tot_step_select``) = len(``id_select_hist``) + 1\n",
    "  + ``tot_step_select`` includes 0th selection\n",
    "\n",
    "e.g. [2000, 200, 200, ...]  \n",
    "  + [0th selection, 1st selection, 2nd ...]\n"
   ]
  },
  {
   "cell_type": "code",
   "execution_count": null,
   "metadata": {},
   "outputs": [],
   "source": [
    "# ---------- total number of optimization steps (all steps)\n",
    "print(f'Total steps: {sum(tot_step_select)}')"
   ]
  },
  {
   "cell_type": "code",
   "execution_count": null,
   "metadata": {},
   "outputs": [],
   "source": [
    "tot_step_select"
   ]
  },
  {
   "cell_type": "markdown",
   "metadata": {},
   "source": [
    "## laqa_step.pkl"
   ]
  },
  {
   "cell_type": "code",
   "execution_count": null,
   "metadata": {},
   "outputs": [],
   "source": [
    "laqa_step = load_data('laqa_step.pkl')"
   ]
  },
  {
   "cell_type": "markdown",
   "metadata": {},
   "source": [
    "### laqa_step\n",
    "number of optimization steps in each ID  \n",
    "Dict  \n",
    "key: structure ID  \n",
    "value:  list of number of optimization steps  \n",
    "e.g.  {0: [20, 7], 1:[20, 20, 20, 5], ...}  \n",
    "  \n",
    "\n",
    "Example: list of optimization steps in ID 7\n",
    "``` python\n",
    "laqa_step[7]\n",
    "```"
   ]
  },
  {
   "cell_type": "code",
   "execution_count": null,
   "metadata": {},
   "outputs": [],
   "source": [
    "print('Total number of optimization steps in ID 7: {}'.format(sum(laqa_step[7])))"
   ]
  },
  {
   "cell_type": "code",
   "execution_count": null,
   "metadata": {},
   "outputs": [],
   "source": [
    "laqa_step[7]"
   ]
  },
  {
   "cell_type": "markdown",
   "metadata": {},
   "source": [
    "## laqa_struc.pkl"
   ]
  },
  {
   "cell_type": "code",
   "execution_count": null,
   "metadata": {},
   "outputs": [],
   "source": [
    "laqa_struc = load_data('laqa_struc.pkl')"
   ]
  },
  {
   "cell_type": "markdown",
   "metadata": {},
   "source": [
    "### laqa_struc\n",
    "list of structure data in each ID  \n",
    "Dict  \n",
    "key: structure ID  \n",
    "value: list of structure data in pymatgen Structure  \n",
    "e.g. {0: [list of structures], 1:[list of structures], ...}  \n",
    "\n",
    "``` python\n",
    "len(laqa_struc[7]) == len(laqa_step[7])  \n",
    "```\n",
    "\n",
    "Latest structure data in each job are save in laqa_struc.  \n",
    "If the optimization finished, LAQA_struc[7][-1] is equal to opt_struc_data[7]  \n",
    "\n",
    "For example,  \n",
    "number of iteration for optimization = 5 (NSW = 5 in VASP input)  \n",
    "- 5 opt. step --> save latest struc. --> 5 opt. step --> save latest struc. --> ...\n",
    "\n",
    "laqa_step[ID] = [5, 5, 5, ...]  \n",
    "laqa_struc[ID] = [a struc_data, a struc_data, ...]  \n",
    "\n",
    "So, 4 structure data are discarded in each job.  \n",
    "If you want to save full structure data step by step,  \n",
    "use `struc_step_flag = True` in cryspy.in.\n",
    "\n",
    "Example: list of structure data in ID 7\n",
    "``` python\n",
    "laqa_struc[7]\n",
    "```"
   ]
  },
  {
   "cell_type": "code",
   "execution_count": null,
   "metadata": {},
   "outputs": [],
   "source": [
    "# ---------- latest structure of ID 7\n",
    "print(laqa_struc[7][-1])"
   ]
  },
  {
   "cell_type": "markdown",
   "metadata": {},
   "source": [
    "## laqa_energy.pkl"
   ]
  },
  {
   "cell_type": "code",
   "execution_count": null,
   "metadata": {},
   "outputs": [],
   "source": [
    "laqa_energy = load_data('laqa_energy.pkl')"
   ]
  },
  {
   "cell_type": "markdown",
   "metadata": {},
   "source": [
    "### laqa_energy\n",
    "list of energy data in each ID  \n",
    "Dict  \n",
    "key: structure ID  \n",
    "value: list of energy data\n",
    "e.g. {0: [-3.287, -3.330], 1:[-3.105, -3.194, -3.233, -3.347], ...}  \n",
    "\n",
    "``` python\n",
    "len(laqa_energy[7]) == len(laqa_step[7])  \n",
    "```\n",
    "\n",
    "Latest energy data in each job are save in laqa_energy.   \n",
    "\n",
    "For example,  \n",
    "number of iteration for optimization = 5 (NSW = 5 in VASP input)  \n",
    "- 5 opt. step --> save latest energy. --> 5 opt. step --> save latest energy. --> ...\n",
    "\n",
    "laqa_step[ID] = [5, 5, 5, ...]  \n",
    "laqa_energy[ID] = [an energy_data, an energy_data, ...]  \n",
    "\n",
    "So, 4 energy data are discarded in each job.  \n",
    "If you want to save full energy data step by step,  \n",
    "use `energy_step_flag = True` in cryspy.in.\n",
    "\n",
    "\n",
    "Example: list of energy data in ID 7\n",
    "``` python\n",
    "laqa_energy[7]\n",
    "```"
   ]
  },
  {
   "cell_type": "code",
   "execution_count": null,
   "metadata": {},
   "outputs": [],
   "source": [
    "# ---------- energy list of ID 7\n",
    "print(laqa_energy[7])\n",
    "# ---------- latest energy of ID 7\n",
    "print(laqa_energy[7][-1])"
   ]
  },
  {
   "cell_type": "markdown",
   "metadata": {},
   "source": [
    "## laqa_bias.pkl"
   ]
  },
  {
   "cell_type": "code",
   "execution_count": null,
   "metadata": {},
   "outputs": [],
   "source": [
    "laqa_bias = load_data('laqa_bias.pkl')"
   ]
  },
  {
   "cell_type": "markdown",
   "metadata": {},
   "source": [
    "### laqa_bias\n",
    "list of bias data in each ID  \n",
    "Dict  \n",
    "key: structure ID  \n",
    "value: list of bias data  \n",
    "e.g. {0: [0.059, 0.003], 1:[0.501, 0.210, 0.984, 0.758], ...}  \n",
    "\n",
    "``` python\n",
    "len(laqa_bias[7]) == len(laqa_step[7])\n",
    "```\n",
    "\n",
    "Example: list of bias data in ID 7\n",
    "``` python\n",
    "laqa_bias[7]\n",
    "```"
   ]
  },
  {
   "cell_type": "code",
   "execution_count": null,
   "metadata": {},
   "outputs": [],
   "source": [
    "# ---------- bias list of ID 7\n",
    "print(laqa_bias[7])\n",
    "# ---------- latest bias of ID 7\n",
    "print(laqa_bias[7][-1])"
   ]
  },
  {
   "cell_type": "markdown",
   "metadata": {},
   "source": [
    "## laqa_score.pkl"
   ]
  },
  {
   "cell_type": "code",
   "execution_count": null,
   "metadata": {},
   "outputs": [],
   "source": [
    "laqa_score = load_data('laqa_score.pkl')"
   ]
  },
  {
   "cell_type": "markdown",
   "metadata": {},
   "source": [
    "### laqa_score\n",
    "list of score data in each ID  \n",
    "Dict  \n",
    "key: structure ID  \n",
    "value: list of score data  \n",
    "e.g. {0: [inf, 3.346, -inf], 1:[3.606, 3.404, 4.217, -inf], ...}  \n",
    "\n",
    "``` python\n",
    "len(laqa_score[7]) == len(laqa_step[7]) + 1  \n",
    "```\n",
    "\n",
    "``laqa_score`` includes 0th score (= plus infinity)  \n",
    "When the optimization finishes, -inf is appended to the score list  \n",
    "\n",
    "Example: list of score data in ID 7\n",
    "``` python\n",
    "laqa_score[7]\n",
    "```"
   ]
  },
  {
   "cell_type": "code",
   "execution_count": null,
   "metadata": {},
   "outputs": [],
   "source": [
    "# ---------- score list of ID 7\n",
    "print(laqa_score[7])\n",
    "# ---------- latest score of ID 7\n",
    "print(laqa_score[7][-1])"
   ]
  },
  {
   "cell_type": "markdown",
   "metadata": {
    "toc-hr-collapsed": true
   },
   "source": [
    "# Evolutionary algorithm"
   ]
  },
  {
   "cell_type": "markdown",
   "metadata": {},
   "source": [
    "## gen.pkl"
   ]
  },
  {
   "cell_type": "code",
   "execution_count": null,
   "metadata": {},
   "outputs": [],
   "source": [
    "gen = load_data('gen.pkl')"
   ]
  },
  {
   "cell_type": "markdown",
   "metadata": {},
   "source": [
    "### gen\n",
    "current generation  \n",
    "Int"
   ]
  },
  {
   "cell_type": "code",
   "execution_count": null,
   "metadata": {},
   "outputs": [],
   "source": [
    "gen"
   ]
  },
  {
   "cell_type": "markdown",
   "metadata": {},
   "source": [
    "## ea_info.pkl"
   ]
  },
  {
   "cell_type": "code",
   "execution_count": null,
   "metadata": {},
   "outputs": [],
   "source": [
    "ea_info = load_data('ea_info.pkl')"
   ]
  },
  {
   "cell_type": "markdown",
   "metadata": {},
   "source": [
    "### ea_info\n",
    "information on generation change  \n",
    "DataFrame  \n",
    "e.g.   \n",
    "```\n",
    " Gen  Population  Crossover  Permutation  Strain  Random  Elite crs_func crs_lat slct_func\n",
    "   1          10          0            0       0      10      0       OP   equal       TNM\n",
    "   2          10          5            0       3       2      2       OP   equal       TNM\n",
    "```"
   ]
  },
  {
   "cell_type": "code",
   "execution_count": null,
   "metadata": {},
   "outputs": [],
   "source": [
    "ea_info"
   ]
  },
  {
   "cell_type": "markdown",
   "metadata": {},
   "source": [
    "## ea_origin.pkl"
   ]
  },
  {
   "cell_type": "code",
   "execution_count": null,
   "metadata": {},
   "outputs": [],
   "source": [
    "ea_origin = load_data('ea_origin.pkl')"
   ]
  },
  {
   "cell_type": "markdown",
   "metadata": {},
   "source": [
    "### ea_origin\n",
    "information on origins (parents)  \n",
    "DataFrame  \n",
    "e.g.\n",
    "```\n",
    " Gen  Struc_ID  Operation  Parent\n",
    "   1         0     random    None\n",
    "   1         1     random    None\n",
    "   1         2     random    None\n",
    "   1         3     random    None\n",
    "   1         4     random    None\n",
    "   1         5     random    None\n",
    "   1         6     random    None\n",
    "   1         7     random    None\n",
    "   1         8     random    None\n",
    "   1         9     random    None\n",
    "   2        10  crossover  (9, 5)\n",
    "   2        11  crossover  (9, 4)\n",
    "   2        12  crossover  (7, 4)\n",
    "   2        13  crossover  (4, 5)\n",
    "   2        14  crossover  (9, 7)\n",
    "   2        15     strain    (0,)\n",
    "   2        16     strain    (4,)\n",
    "   2        17     strain    (9,)\n",
    "   2        18     random    None\n",
    "   2        19     random    None\n",
    "   2         4      elite   elite\n",
    "   2         0      elite   elite\n",
    "```"
   ]
  },
  {
   "cell_type": "code",
   "execution_count": null,
   "metadata": {},
   "outputs": [],
   "source": [
    "ea_origin"
   ]
  },
  {
   "cell_type": "markdown",
   "metadata": {},
   "source": [
    "## elite_struc.pkl"
   ]
  },
  {
   "cell_type": "code",
   "execution_count": null,
   "metadata": {},
   "outputs": [],
   "source": [
    "elite_struc = load_data('elite_struc.pkl')"
   ]
  },
  {
   "cell_type": "markdown",
   "metadata": {},
   "source": [
    "### elite_struc\n",
    "elite structure data  \n",
    "Dict  \n",
    "key: structre ID  \n",
    "value: structure data in pymatgen Structure  \n",
    "e.g.  {0: struc0, 4: struc4, ...}"
   ]
  },
  {
   "cell_type": "code",
   "execution_count": null,
   "metadata": {},
   "outputs": [],
   "source": [
    "elite_struc.keys()"
   ]
  },
  {
   "cell_type": "markdown",
   "metadata": {},
   "source": [
    "## elite_fitness.pkl"
   ]
  },
  {
   "cell_type": "code",
   "execution_count": null,
   "metadata": {},
   "outputs": [],
   "source": [
    "elite_fitness = load_data('elite_fitness.pkl')"
   ]
  },
  {
   "cell_type": "markdown",
   "metadata": {},
   "source": [
    "### elite_fitness\n",
    "fitness of elite structures  \n",
    "Dict  \n",
    "key: structre ID  \n",
    "value: fitness  \n",
    "e.g. {4: -4.101055417556523, 0: -4.061872594010355}"
   ]
  },
  {
   "cell_type": "code",
   "execution_count": null,
   "metadata": {},
   "outputs": [],
   "source": [
    "elite_fitness"
   ]
  },
  {
   "cell_type": "markdown",
   "metadata": {},
   "source": [
    "# EA-vc\n",
    "## nat_data.pkl"
   ]
  },
  {
   "cell_type": "code",
   "execution_count": null,
   "metadata": {},
   "outputs": [],
   "source": [
    "nat_data = load_data('nat_data.pkl')"
   ]
  },
  {
   "cell_type": "markdown",
   "metadata": {},
   "source": [
    "## nat_data\n",
    "data of the number of atoms  \n",
    "Dict  \n",
    "key: structre ID  \n",
    "value: nat  \n",
    "e.g. {  \n",
    "    0: (4, 2),  \n",
    "     1: (2, 4),  \n",
    "      2: (2, 1),  \n",
    "       ...  \n",
    "    }"
   ]
  },
  {
   "cell_type": "code",
   "execution_count": null,
   "metadata": {},
   "outputs": [],
   "source": [
    "nat_data"
   ]
  },
  {
   "cell_type": "markdown",
   "metadata": {},
   "source": [
    "# ratio_data.pkl"
   ]
  },
  {
   "cell_type": "code",
   "execution_count": null,
   "metadata": {},
   "outputs": [],
   "source": [
    "ratio_data = load_data('ratio_data.pkl')"
   ]
  },
  {
   "cell_type": "markdown",
   "metadata": {},
   "source": [
    "## ratio_data\n",
    "data of composition ratio  \n",
    "Dict  \n",
    "key: structre ID  \n",
    "value: composition ratio  \n",
    "e.g  \n",
    " {  \n",
    "0: (0.75, 0.25),  \n",
    "1: (0.42857142857142855, 0.5714285714285714),  \n",
    "2: (0.5, 0.5), ...  \n",
    "}"
   ]
  },
  {
   "cell_type": "code",
   "execution_count": null,
   "metadata": {},
   "outputs": [],
   "source": [
    "ratio_data"
   ]
  },
  {
   "cell_type": "markdown",
   "metadata": {},
   "source": [
    "## hdist_data.pkl"
   ]
  },
  {
   "cell_type": "code",
   "execution_count": null,
   "metadata": {},
   "outputs": [],
   "source": [
    "hdist_data = load_data('hdist_data.pkl')"
   ]
  },
  {
   "cell_type": "markdown",
   "metadata": {},
   "source": [
    "### hdist_data\n",
    "data of the hull distance  \n",
    "Dict  \n",
    "key: generation  \n",
    "value: {ID: hull distance, ...}  \n",
    "e.g. {  \n",
    "  1: {0: 0.0, 1: 0.14048749296990964, 2: 0.7806598225267387, ...},  \n",
    "  2: {0: 0.0, 1: 0.14048749296990964, 2: 0.7806598225267387, ...},  \n",
    "   ...  \n",
    "   }"
   ]
  },
  {
   "cell_type": "code",
   "execution_count": null,
   "metadata": {},
   "outputs": [],
   "source": [
    "# hdist_data[gen][ID]\n",
    "hdist_data"
   ]
  },
  {
   "cell_type": "markdown",
   "metadata": {
    "toc-hr-collapsed": false
   },
   "source": [
    "# Option"
   ]
  },
  {
   "cell_type": "markdown",
   "metadata": {},
   "source": [
    "## energy_step_data.pkl"
   ]
  },
  {
   "cell_type": "code",
   "execution_count": null,
   "metadata": {},
   "outputs": [],
   "source": [
    "energy_step_data = load_data('energy_step_data.pkl')\n",
    "#energy_step_data = load_data_gz('energy_step_data.pkl.gz')"
   ]
  },
  {
   "cell_type": "markdown",
   "metadata": {},
   "source": [
    "### energy-step data  \n",
    "Dict  \n",
    "key: structre ID  \n",
    "value: energy-step numpy.ndarray  \n",
    "e.g.  \n",
    " { 0:  [ [array(stage1, step1), array(stage1, step2), ...], [array(stage2, step1), array(stage2, step2), ...], ... ]}  \n",
    "\n",
    "Example: energy of ID 7, stage 2, step 5\n",
    "``` python\n",
    "# energy_step_data[ID][stage][step]\n",
    "# energy_step_data[ID][0] <-- stage 1\n",
    "# energy_step_data[ID][1] <-- stage 2\n",
    "#\n",
    "# in LAQA\n",
    "# energy_step_data[ID][0] <-- 1st selection\n",
    "# energy_step_data[ID][1] <-- 2nd selection\n",
    "energy_step_data[7][2-1][5-1]\n",
    "```"
   ]
  },
  {
   "cell_type": "code",
   "execution_count": null,
   "metadata": {},
   "outputs": [],
   "source": [
    "# ---------- energy-step data of ID 7, stage 2\n",
    "energy_step_data[7][2-1]"
   ]
  },
  {
   "cell_type": "markdown",
   "metadata": {},
   "source": [
    "## struc_step_data.pkl"
   ]
  },
  {
   "cell_type": "code",
   "execution_count": null,
   "metadata": {},
   "outputs": [],
   "source": [
    "#struc_step_data = load_data('struc_step_data.pkl')\n",
    "struc_step_data = load_data_gz('struc_step_data.pkl.gz')"
   ]
  },
  {
   "cell_type": "markdown",
   "metadata": {},
   "source": [
    "### struc_step_data\n",
    "Dict  \n",
    "key: structre ID  \n",
    "value: structure-step list  \n",
    "e.g. {0:  [ [ (stage1, step1), (stage1, step2), ...], [(stage2, step1), (stage2, step2), ...], ...]}  \n",
    "\n",
    "Example: structure of ID 7, stage 2, step 5\n",
    "``` python\n",
    "# struc_step_data[ID][stage][step]\n",
    "# struc_step_data[ID][0] <-- stage 1\n",
    "# struc_step_data[ID][1] <-- stage 2\n",
    "#\n",
    "# in LAQA\n",
    "# struc_step_data[ID][0] <-- 1st selection\n",
    "# struc_step_data[ID][1] <-- 2nd selection\n",
    "sturc_step_data[7][2-1][5-1]\n",
    "```"
   ]
  },
  {
   "cell_type": "code",
   "execution_count": null,
   "metadata": {},
   "outputs": [],
   "source": [
    "# ---------- structure-step data of ID 7, stage 2\n",
    "struc_step_data[7][2-1]"
   ]
  },
  {
   "cell_type": "markdown",
   "metadata": {},
   "source": [
    "## force_step_data.pkl"
   ]
  },
  {
   "cell_type": "code",
   "execution_count": null,
   "metadata": {},
   "outputs": [],
   "source": [
    "force_step_data = load_data('force_step_data.pkl')\n",
    "#force_step_data = load_data_gz('force_step_data.pkl.gz')"
   ]
  },
  {
   "cell_type": "markdown",
   "metadata": {},
   "source": [
    "### force_step_data\n",
    "Dict  \n",
    "key: structre ID  \n",
    "value: force-step numpy.ndarray\n",
    "e.g. {0:  [ [array(stage1, step1), array(stage1, step2), ...], [array(stage2, step1), array(stage2, step2), ...], ... ]}  \n",
    "\n",
    "Example: force of ID 7, stage 2, step 5\n",
    "``` python\n",
    "# force_step_data[ID][stage][step]\n",
    "# force_step_data[ID][0] <-- stage 1\n",
    "# force_step_data[ID][1] <-- stage 2\n",
    "#\n",
    "# in LAQA\n",
    "# force_step_data[ID][0] <-- 1st selection\n",
    "# force_step_data[ID][1] <-- 2nd selection\n",
    "force_step_data[7][2-1][5-1]\n",
    "```"
   ]
  },
  {
   "cell_type": "code",
   "execution_count": null,
   "metadata": {},
   "outputs": [],
   "source": [
    "force_step_data[7][2-1][5-1]"
   ]
  },
  {
   "cell_type": "markdown",
   "metadata": {},
   "source": [
    "## stress_step_data.pkl"
   ]
  },
  {
   "cell_type": "code",
   "execution_count": null,
   "metadata": {},
   "outputs": [],
   "source": [
    "stress_step_data = load_data('stress_step_data.pkl')\n",
    "#stress_step_data = load_data_gz('stress_step_data.pkl.gz')"
   ]
  },
  {
   "cell_type": "markdown",
   "metadata": {},
   "source": [
    "### stress_step_data\n",
    "Dict  \n",
    "key: structre ID  \n",
    "value: stress-step numpy.ndarray  \n",
    "e.g. {0:  [ [array(stage1, step1), array(stage1, step2), ...], [array(stage2, step1), array(stage2, step2), ...], ... ]}  \n",
    "\n",
    "Example: stress of ID 7, stage 2, step 5\n",
    "``` python\n",
    "# stress_step_data[ID][stage][step]\n",
    "# stress_step_data[ID][0] <-- stage 1\n",
    "# stress_step_data[ID][1] <-- stage 2\n",
    "#\n",
    "# in LAQA\n",
    "# stress_step_data[ID][0] <-- 1st selection\n",
    "# stress_step_data[ID][1] <-- 2nd selection\n",
    "stress_step_data[7][2-1][5-1]\n",
    "```"
   ]
  },
  {
   "cell_type": "code",
   "execution_count": null,
   "metadata": {},
   "outputs": [],
   "source": [
    "stress_step_data[7][2-1][5-1]"
   ]
  }
 ],
 "metadata": {
  "anaconda-cloud": {},
  "kernelspec": {
   "display_name": "Python 3",
   "language": "python",
   "name": "python3"
  },
  "language_info": {
   "codemirror_mode": {
    "name": "ipython",
    "version": 3
   },
   "file_extension": ".py",
   "mimetype": "text/x-python",
   "name": "python",
   "nbconvert_exporter": "python",
   "pygments_lexer": "ipython3",
   "version": "3.10.9"
  },
  "toc": {
   "nav_menu": {
    "height": "225px",
    "width": "252px"
   },
   "number_sections": true,
   "sideBar": true,
   "skip_h1_title": false,
   "toc_cell": false,
   "toc_position": {},
   "toc_section_display": "block",
   "toc_window_display": false
  },
  "toc-autonumbering": true,
  "varInspector": {
   "cols": {
    "lenName": 16,
    "lenType": 16,
    "lenVar": 40
   },
   "kernels_config": {
    "python": {
     "delete_cmd_postfix": "",
     "delete_cmd_prefix": "del ",
     "library": "var_list.py",
     "varRefreshCmd": "print(var_dic_list())"
    },
    "r": {
     "delete_cmd_postfix": ") ",
     "delete_cmd_prefix": "rm(",
     "library": "var_list.r",
     "varRefreshCmd": "cat(var_dic_list()) "
    }
   },
   "types_to_exclude": [
    "module",
    "function",
    "builtin_function_or_method",
    "instance",
    "_Feature"
   ],
   "window_display": false
  }
 },
 "nbformat": 4,
 "nbformat_minor": 4
}
