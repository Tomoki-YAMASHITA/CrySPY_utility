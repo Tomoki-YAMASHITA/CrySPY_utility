{
 "cells": [
  {
   "cell_type": "markdown",
   "metadata": {},
   "source": [
    "# Import"
   ]
  },
  {
   "cell_type": "code",
   "execution_count": null,
   "metadata": {},
   "outputs": [],
   "source": [
    "#---------- import\n",
    "import matplotlib.pyplot as plt\n",
    "import numpy as np\n",
    "import pickle"
   ]
  },
  {
   "cell_type": "code",
   "execution_count": null,
   "metadata": {},
   "outputs": [],
   "source": [
    "# ------ for gzip\n",
    "#imoprt gzip"
   ]
  },
  {
   "cell_type": "markdown",
   "metadata": {},
   "source": [
    "# Load function"
   ]
  },
  {
   "cell_type": "code",
   "execution_count": null,
   "metadata": {},
   "outputs": [],
   "source": [
    "def load_data(filename):\n",
    "    with open(filename, 'rb') as f:\n",
    "        return pickle.load(f)"
   ]
  },
  {
   "cell_type": "code",
   "execution_count": null,
   "metadata": {},
   "outputs": [],
   "source": [
    "#  ---------- for gzip\n",
    "#def load_data_gz(filename):\n",
    "#    with gzip.open(filename, 'rb') as f:\n",
    "#        return pickle.load(f)"
   ]
  },
  {
   "cell_type": "markdown",
   "metadata": {
    "toc-hr-collapsed": true
   },
   "source": [
    "# Structure data"
   ]
  },
  {
   "cell_type": "markdown",
   "metadata": {},
   "source": [
    "## init_struc_data.pkl"
   ]
  },
  {
   "cell_type": "code",
   "execution_count": null,
   "metadata": {},
   "outputs": [],
   "source": [
    "init_struc_data = load_data('init_struc_data.pkl')\n",
    "#init_struc_data = load_data_gz('init_struc_data.pkl.gz')"
   ]
  },
  {
   "cell_type": "markdown",
   "metadata": {},
   "source": [
    "### init_struc_data\n",
    "**init_struc_data**: initial structure data  \n",
    "- Type: dict  \n",
    "  + The keys are structre IDs \n",
    "  + The values are structure data in pymatgen format\n",
    "- String form: {0: struc0, 1: struc1, ...}  \n",
    "  \n",
    "\n",
    "Example: initial structure data of ID 7\n",
    "``` python\n",
    "init_struc_data[7]\n",
    "```"
   ]
  },
  {
   "cell_type": "code",
   "execution_count": null,
   "metadata": {},
   "outputs": [],
   "source": [
    "init_struc_data[7]"
   ]
  },
  {
   "cell_type": "markdown",
   "metadata": {},
   "source": [
    "## opt_struc_data.pkl"
   ]
  },
  {
   "cell_type": "code",
   "execution_count": null,
   "metadata": {},
   "outputs": [],
   "source": [
    "opt_struc_data = load_data('opt_struc_data.pkl')\n",
    "#opt_struc_data = load_data_gz('opt_struc_data.pkl.gz')"
   ]
  },
  {
   "cell_type": "markdown",
   "metadata": {},
   "source": [
    "### opt_struc_data\n",
    "**opt_struc_data**: optimized structure data  \n",
    "- Type: dict  \n",
    "  + The keys are structre IDs\n",
    "  + The values are structure data in pymatgen format\n",
    "- String form: {0: struc0, 1: struc1, ...}  \n",
    "\n",
    "Example: optimized structure data of ID 7\n",
    "``` python\n",
    "opt_struc_data[7]\n",
    "```"
   ]
  },
  {
   "cell_type": "code",
   "execution_count": null,
   "metadata": {},
   "outputs": [],
   "source": [
    "opt_struc_data[7]"
   ]
  },
  {
   "cell_type": "markdown",
   "metadata": {
    "toc-hr-collapsed": true
   },
   "source": [
    "# rslt_data.pkl"
   ]
  },
  {
   "cell_type": "code",
   "execution_count": null,
   "metadata": {},
   "outputs": [],
   "source": [
    "rslt_data = load_data('rslt_data.pkl')"
   ]
  },
  {
   "cell_type": "markdown",
   "metadata": {},
   "source": [
    "## rslt_data\n",
    "**rslt_data**: result data  \n",
    "- Type: DataFrame  \n",
    "  + Row labels are structure IDs  \n",
    "- String form:\n",
    "```\n",
    "   Spg_num  Spg_sym  Spg_num_opt Spg_sym_opt  E_eV_atom  Magmom   Opt\n",
    "0      168       P6          191      P6/mmm  -3.826916     NaN  done\n",
    "1       95   P4_322           95      P4_322  -3.978478     NaN  done\n",
    "2      191   P6/mmm          191      P6/mmm  -2.289173     NaN  done\n",
    "3      113  P-42_1m          113     P-42_1m  -3.773191     NaN  done\n",
    "4      128   P4/mnc          123      P4/mmm  -3.296904     NaN  done\n",
    "```"
   ]
  },
  {
   "cell_type": "code",
   "execution_count": null,
   "metadata": {},
   "outputs": [],
   "source": [
    "# ---------- sort by Energy\n",
    "rslt_data.sort_values(by=['E_eV_atom']).head(10)"
   ]
  },
  {
   "cell_type": "markdown",
   "metadata": {
    "toc-hr-collapsed": true
   },
   "source": [
    "# kpt_data.pkl"
   ]
  },
  {
   "cell_type": "code",
   "execution_count": null,
   "metadata": {},
   "outputs": [],
   "source": [
    "kpt_data = load_data('kpt_data.pkl')"
   ]
  },
  {
   "cell_type": "markdown",
   "metadata": {},
   "source": [
    "## kpt_data\n",
    "**kpt_data**: k-point data  \n",
    "- Type: dict\n",
    "  + The keys are structre IDs  \n",
    "  + The values are list of k-mesh in each stage  \n",
    "- String form: {0: [[2, ,2 ,2], [4, 4, 4,], [6, 6, 6,], ...], 1: ...}  \n",
    "\n",
    "Example: k-mesh of ID 7 stage 2\n",
    "``` python\n",
    "# kpt_data[ID][stage]\n",
    "# kpt_data[ID][0] <-- stage 1\n",
    "# kpt_data[ID][1] <-- stage 2\n",
    "is = 2\n",
    "kpt_data[7][is-1]\n",
    "```"
   ]
  },
  {
   "cell_type": "code",
   "execution_count": null,
   "metadata": {},
   "outputs": [],
   "source": [
    "kpt_data"
   ]
  },
  {
   "cell_type": "markdown",
   "metadata": {
    "toc-hr-collapsed": true
   },
   "source": [
    "# Random Search"
   ]
  },
  {
   "cell_type": "markdown",
   "metadata": {
    "toc-hr-collapsed": true
   },
   "source": [
    "## RS_id_data.pkl"
   ]
  },
  {
   "cell_type": "code",
   "execution_count": null,
   "metadata": {},
   "outputs": [],
   "source": [
    "id_queueing, id_running = load_data('RS_id_data.pkl')"
   ]
  },
  {
   "cell_type": "markdown",
   "metadata": {},
   "source": [
    "### id_queueing\n",
    "**id_queueing**: queueing IDs  \n",
    "- Type: list  \n",
    "- String form: [5, 6, 7, 8, 9]  "
   ]
  },
  {
   "cell_type": "code",
   "execution_count": null,
   "metadata": {},
   "outputs": [],
   "source": [
    "id_queueing"
   ]
  },
  {
   "cell_type": "markdown",
   "metadata": {},
   "source": [
    "### id_running\n",
    "**id_running**: running IDs  \n",
    "- Type: list  \n",
    "- String form: [0, 1, 2, 3, 4]  "
   ]
  },
  {
   "cell_type": "code",
   "execution_count": null,
   "metadata": {},
   "outputs": [],
   "source": [
    "id_running"
   ]
  },
  {
   "cell_type": "markdown",
   "metadata": {
    "toc-hr-collapsed": true
   },
   "source": [
    "# Bayesian Optimizaiton"
   ]
  },
  {
   "cell_type": "markdown",
   "metadata": {
    "toc-hr-collapsed": true
   },
   "source": [
    "## BO_id_data.pkl"
   ]
  },
  {
   "cell_type": "code",
   "execution_count": null,
   "metadata": {},
   "outputs": [],
   "source": [
    "n_selection, id_queueing, id_running, id_select_hist = load_data('BO_id_data.pkl')"
   ]
  },
  {
   "cell_type": "markdown",
   "metadata": {},
   "source": [
    "### n_selection\n",
    "**n_selection**: number of selection  \n",
    "- Type: int\n",
    "- String form: 1"
   ]
  },
  {
   "cell_type": "code",
   "execution_count": null,
   "metadata": {},
   "outputs": [],
   "source": [
    "n_selection"
   ]
  },
  {
   "cell_type": "markdown",
   "metadata": {},
   "source": [
    "### id_queueing\n",
    "**id_queueing**: queueing IDs  \n",
    "- Type: list  \n",
    "- String form: [2, 5, 8] "
   ]
  },
  {
   "cell_type": "code",
   "execution_count": null,
   "metadata": {},
   "outputs": [],
   "source": [
    "id_queueing"
   ]
  },
  {
   "cell_type": "markdown",
   "metadata": {},
   "source": [
    "### id_running\n",
    "**id_running**: running IDs  \n",
    "- Type: list  \n",
    "- String form: [1, 7]  "
   ]
  },
  {
   "cell_type": "code",
   "execution_count": null,
   "metadata": {},
   "outputs": [],
   "source": [
    "id_running"
   ]
  },
  {
   "cell_type": "markdown",
   "metadata": {},
   "source": [
    "### id_select_hist\n",
    "**id_select_hist**: history of ID selection  \n",
    "- Type: list\n",
    "- String form: [[3, 9], [6, 4]..., ]\n",
    "  + [[list of first selection], [list of second selection], ...]"
   ]
  },
  {
   "cell_type": "code",
   "execution_count": null,
   "metadata": {},
   "outputs": [],
   "source": [
    "id_select_hist"
   ]
  },
  {
   "cell_type": "markdown",
   "metadata": {
    "toc-hr-collapsed": true
   },
   "source": [
    "## BO_data.pkl"
   ]
  },
  {
   "cell_type": "code",
   "execution_count": null,
   "metadata": {},
   "outputs": [],
   "source": [
    "init_dscrpt_data, opt_dscrpt_data, bo_mean, bo_var, bo_score = load_data('BO_data.pkl')"
   ]
  },
  {
   "cell_type": "markdown",
   "metadata": {},
   "source": [
    "### init_dscrpt_data\n",
    "**init_dscrpt_data**: descriptor data of initial structures  \n",
    "- Type: dict\n",
    "  + The keys are structre IDs \n",
    "  + The values are descriptor data in numpy.ndarray\n",
    "- String form: {0: array([descriptor array of ID 0]), 1: array([descriptor array of ID 1]), ...}\n",
    "\n",
    "\n",
    "Example: init_dscrpt_data of ID 3\n",
    "``` python \n",
    "init_dscrpt_data[3]\n",
    "```"
   ]
  },
  {
   "cell_type": "code",
   "execution_count": null,
   "metadata": {},
   "outputs": [],
   "source": [
    "init_dscrpt_data[3]  "
   ]
  },
  {
   "cell_type": "markdown",
   "metadata": {},
   "source": [
    "### opt_dscrpt_data\n",
    "**opt_dscrpt_data**: descriptor data of optimized structures  \n",
    "- Type: dict\n",
    "  + The keys are structre IDs \n",
    "  + The values are descriptor data in numpy.ndarray\n",
    "- String form: {0: array([descriptor array of ID 0]), 1: array([descriptor array of ID 1]), ...}\n",
    "\n",
    " \n",
    "Example: opt_dscrpt_data of ID 3\n",
    "``` python \n",
    "opt_dscrpt_data[3]\n",
    "```"
   ]
  },
  {
   "cell_type": "code",
   "execution_count": null,
   "metadata": {},
   "outputs": [],
   "source": [
    "opt_dscrpt_data[3]"
   ]
  },
  {
   "cell_type": "markdown",
   "metadata": {},
   "source": [
    "### bo_mean\n",
    "**bo_mean**: mean data for each selection  \n",
    "- Type: dict\n",
    "  + The keys are selection No. \n",
    "  + The values are dict of predictive mean\n",
    "- String form: {2: {0: 3.93, 1: 3.92, 2: 3.94, ...}, 3: {...}, ...}\n",
    "\n",
    "Example: mean data for each candidate at 2nd selection (1st selection is random)\n",
    "``` python \n",
    "bo_mean[2]\n",
    "```"
   ]
  },
  {
   "cell_type": "code",
   "execution_count": null,
   "metadata": {},
   "outputs": [],
   "source": [
    "bo_mean[2]"
   ]
  },
  {
   "cell_type": "markdown",
   "metadata": {},
   "source": [
    "### bo_var\n",
    "**bo_var**: variance data for each selection  \n",
    "- Type: dict\n",
    "  + The keys are selection No. \n",
    "  + The values are dict of predictive variance\n",
    "- String form: {2: {0: 0.014, 1: 0.013, 2: 0.018, ...}, 3: {...}, ...}\n",
    "\n",
    "Example: variance data for each candidate at 2nd selection (1st selection is random)\n",
    "``` python \n",
    "bo_var[2]\n",
    "```"
   ]
  },
  {
   "cell_type": "code",
   "execution_count": null,
   "metadata": {},
   "outputs": [],
   "source": [
    "bo_var[2]"
   ]
  },
  {
   "cell_type": "markdown",
   "metadata": {},
   "source": [
    "### bo_score\n",
    "**bo_score**: score (acquisition function) data for each selection  \n",
    "- Type: dict\n",
    "  + The keys are selection No. \n",
    "  + The values are dict of score\n",
    "- String form: {2: {0: 4.076, 1: 3.995, 2: 4.010, ...}, 3: {...}, ...}\n",
    "\n",
    "Example: score data for each candidate at 2nd selection (1st selection is random)\n",
    "``` python \n",
    "bo_score[2]\n",
    "```"
   ]
  },
  {
   "cell_type": "code",
   "execution_count": null,
   "metadata": {},
   "outputs": [],
   "source": [
    "bo_score[2]"
   ]
  },
  {
   "cell_type": "markdown",
   "metadata": {
    "toc-hr-collapsed": false
   },
   "source": [
    "# LAQA"
   ]
  },
  {
   "cell_type": "markdown",
   "metadata": {},
   "source": [
    "## LAQA_id_data.pkl"
   ]
  },
  {
   "cell_type": "code",
   "execution_count": null,
   "metadata": {},
   "outputs": [],
   "source": [
    "id_queueing, id_running, id_select_hist = load_data('LAQA_id_data.pkl')"
   ]
  },
  {
   "cell_type": "markdown",
   "metadata": {},
   "source": [
    "### id_queueing\n",
    "**id_queueing**: queueing IDs  \n",
    "- Type: list  \n",
    "- String form: [2, 3, 4, 5, 6, 7, 8, 9]  "
   ]
  },
  {
   "cell_type": "code",
   "execution_count": null,
   "metadata": {},
   "outputs": [],
   "source": [
    "id_queueing"
   ]
  },
  {
   "cell_type": "markdown",
   "metadata": {},
   "source": [
    "### id_running\n",
    "**id_running**: running IDs  \n",
    "- Type: list  \n",
    "- String form: [0, 1]  "
   ]
  },
  {
   "cell_type": "code",
   "execution_count": null,
   "metadata": {},
   "outputs": [],
   "source": [
    "id_running"
   ]
  },
  {
   "cell_type": "markdown",
   "metadata": {},
   "source": [
    "### id_select_hist\n",
    "**id_select_hist**: history of ID selection  \n",
    "- Type: list\n",
    "- String form: [[3, 9], [6, 4]..., ]\n",
    "  + [[list of first selection], [list of second selection], ...]"
   ]
  },
  {
   "cell_type": "code",
   "execution_count": null,
   "metadata": {},
   "outputs": [],
   "source": [
    "id_select_hist"
   ]
  },
  {
   "cell_type": "markdown",
   "metadata": {},
   "source": [
    "## LAQA_data.pkl"
   ]
  },
  {
   "cell_type": "code",
   "execution_count": null,
   "metadata": {},
   "outputs": [],
   "source": [
    "tot_step_select, laqa_step, laqa_struc, laqa_energy, laqa_bias, laqa_score = load_data('LAQA_data.pkl')\n",
    "#tot_step_select, laqa_step, laqa_struc, laqa_energy, laqa_bias, laqa_score = load_data_gz('LAQA_data.pkl.gz')"
   ]
  },
  {
   "cell_type": "markdown",
   "metadata": {},
   "source": [
    "### tot_step_select\n",
    "**tot_step_select**: total number of optimization steps in each selection  \n",
    "- Type: list  \n",
    "  + len(``tot_step_select``) = len(``id_select_hist``) + 1\n",
    "  + ``tot_step_select`` includes 0th selection\n",
    "- String form: [2000, 200, 200, ...]  \n",
    "  + [0th, 1st, 2nd, ...]  "
   ]
  },
  {
   "cell_type": "code",
   "execution_count": null,
   "metadata": {},
   "outputs": [],
   "source": [
    "# ---------- total number of optimization steps (all steps)\n",
    "print('Total steps: {}'.format(sum(tot_step_select)))\n",
    "tot_step_select"
   ]
  },
  {
   "cell_type": "markdown",
   "metadata": {},
   "source": [
    "### laqa_step\n",
    "**laqa_step**: number of optimization steps in each ID  \n",
    "- Type: dict\n",
    "  + The keys are structure ID  \n",
    "  + The values are list of number of optimization steps\n",
    "- String form: {0: [20, 7], 1:[20, 20, 20, 5], ...}  \n",
    "  \n",
    "\n",
    "Example: list of optimization steps in ID 7\n",
    "``` python\n",
    "laqa_step[7]\n",
    "```"
   ]
  },
  {
   "cell_type": "code",
   "execution_count": null,
   "metadata": {},
   "outputs": [],
   "source": [
    "print(laqa_step[7])\n",
    "# ---------- total steps\n",
    "print('Total number of optimization steps in ID 7: {}'.format(sum(laqa_step[7])))"
   ]
  },
  {
   "cell_type": "markdown",
   "metadata": {},
   "source": [
    "### laqa_struc\n",
    "**laqa_struc**: list of structure data in each ID  \n",
    "- Type: dict  \n",
    "  + The keys are structure ID\n",
    "  + The values are list of structure data in pymatgen format\n",
    "- String form: {0: [list of structures], 1:[list of structures], ...}  \n",
    "\n",
    "``` python\n",
    "len(laqa_struc[7]) == len(laqa_step[7])  \n",
    "```\n",
    "\n",
    "Latest structure data in each job are save in laqa_struc.  \n",
    "If the optimization finished, LAQA_struc[7][-1] is equal to opt_struc_data[7]  \n",
    "\n",
    "For example,  \n",
    "number of iteration for optimization = 5 (NSW = 5 in VASP input)  \n",
    "- 5 opt. step --> save latest struc. --> 5 opt. step --> save latest struc. --> ...\n",
    "\n",
    "laqa_step[ID] = [5, 5, 5, ...]  \n",
    "laqa_struc[ID] = [a struc_data, a struc_data, ...]  \n",
    "\n",
    "So, 4 structure data are discarded in each job.  \n",
    "If you want to save full structure data step by step,  \n",
    "use `struc_step_flag = True` in cryspy.in.\n",
    "\n",
    "Example: list of structure data in ID 7\n",
    "``` python\n",
    "laqa_struc[7]\n",
    "```"
   ]
  },
  {
   "cell_type": "code",
   "execution_count": null,
   "metadata": {},
   "outputs": [],
   "source": [
    "# ---------- latest structure of ID 7\n",
    "print(laqa_struc[7][-1])"
   ]
  },
  {
   "cell_type": "markdown",
   "metadata": {},
   "source": [
    "### laqa_energy\n",
    "**laqa_energy**: list of energy data in each ID  \n",
    "- Type: dict  \n",
    "  + The keys are structure ID\n",
    "  + The values are list of energy data\n",
    "- String form: {0: [-3.287, -3.330], 1:[-3.105, -3.194, -3.233, -3.347], ...}  \n",
    "\n",
    "``` python\n",
    "len(laqa_energy[7]) == len(laqa_step[7])  \n",
    "```\n",
    "\n",
    "Latest energy data in each job are save in laqa_energy.   \n",
    "\n",
    "For example,  \n",
    "number of iteration for optimization = 5 (NSW = 5 in VASP input)  \n",
    "- 5 opt. step --> save latest energy. --> 5 opt. step --> save latest energy. --> ...\n",
    "\n",
    "laqa_step[ID] = [5, 5, 5, ...]  \n",
    "laqa_energy[ID] = [an energy_data, an energy_data, ...]  \n",
    "\n",
    "So, 4 energy data are discarded in each job.  \n",
    "If you want to save full energy data step by step,  \n",
    "use `energy_step_flag = True` in cryspy.in.\n",
    "\n",
    "\n",
    "Example: list of energy data in ID 7\n",
    "``` python\n",
    "laqa_energy[7]\n",
    "```"
   ]
  },
  {
   "cell_type": "code",
   "execution_count": null,
   "metadata": {},
   "outputs": [],
   "source": [
    "# ---------- energy list of ID 7\n",
    "print(laqa_energy[7])\n",
    "# ---------- latest energy of ID 7\n",
    "print(laqa_energy[7][-1])"
   ]
  },
  {
   "cell_type": "markdown",
   "metadata": {},
   "source": [
    "### laqa_bias\n",
    "**laqa_bias**: list of bias data in each ID  \n",
    "- Type: dict  \n",
    "  + The keys are structure ID\n",
    "  + The values are list of bias data\n",
    "- String form: {0: [0.059, 0.003], 1:[0.501, 0.210, 0.984, 0.758], ...}  \n",
    "\n",
    "``` python\n",
    "len(laqa_bias[7]) == len(laqa_step[7])\n",
    "```\n",
    "\n",
    "Example: list of bias data in ID 7\n",
    "``` python\n",
    "laqa_bias[7]\n",
    "```"
   ]
  },
  {
   "cell_type": "code",
   "execution_count": null,
   "metadata": {},
   "outputs": [],
   "source": [
    "# ---------- bias list of ID 7\n",
    "print(laqa_bias[7])\n",
    "# ---------- latest bias of ID 7\n",
    "print(laqa_bias[7][-1])"
   ]
  },
  {
   "cell_type": "markdown",
   "metadata": {},
   "source": [
    "### laqa_score\n",
    "**laqa_score**: list of score data in each ID  \n",
    "- Type: dict  \n",
    "  + The keys are structure ID  \n",
    "  + The values are list of score data  \n",
    "- String form: {0: [inf, 3.346, -inf], 1:[3.606, 3.404, 4.217, -inf], ...}  \n",
    "\n",
    "``` python\n",
    "len(laqa_score[7]) == len(laqa_step[7]) + 1  \n",
    "```\n",
    "\n",
    "``laqa_score`` includes 0th score (= plus infinity)  \n",
    "If the optimization finished, -inf is appended to the score list  \n",
    "\n",
    "Example: list of score data in ID 7\n",
    "``` python\n",
    "laqa_score[7]\n",
    "```"
   ]
  },
  {
   "cell_type": "code",
   "execution_count": null,
   "metadata": {},
   "outputs": [],
   "source": [
    "# ---------- score list of ID 7\n",
    "print(laqa_score[7])\n",
    "# ---------- latest score of ID 7\n",
    "print(laqa_score[7][-1])"
   ]
  },
  {
   "cell_type": "markdown",
   "metadata": {
    "toc-hr-collapsed": true
   },
   "source": [
    "# Evolutionary algorithm"
   ]
  },
  {
   "cell_type": "markdown",
   "metadata": {},
   "source": [
    "## EA_id_data.pkl"
   ]
  },
  {
   "cell_type": "code",
   "execution_count": null,
   "metadata": {},
   "outputs": [],
   "source": [
    "gen, id_queueing, id_running = load_data('EA_id_data.pkl')"
   ]
  },
  {
   "cell_type": "markdown",
   "metadata": {},
   "source": [
    "### gen\n",
    "**gen**: current generation  \n",
    "- Type: int\n",
    "- String form: 1"
   ]
  },
  {
   "cell_type": "code",
   "execution_count": null,
   "metadata": {},
   "outputs": [],
   "source": [
    "gen"
   ]
  },
  {
   "cell_type": "markdown",
   "metadata": {},
   "source": [
    "### id_queueing\n",
    "**id_queueing**: queueing IDs  \n",
    "- Type: list  \n",
    "- String form: [5, 6, 7, 8, 9]  "
   ]
  },
  {
   "cell_type": "code",
   "execution_count": null,
   "metadata": {},
   "outputs": [],
   "source": [
    "id_queueing"
   ]
  },
  {
   "cell_type": "markdown",
   "metadata": {},
   "source": [
    "### id_running\n",
    "**id_running**: running IDs  \n",
    "- Type: list  \n",
    "- String form: [0 1 2 3 4]  "
   ]
  },
  {
   "cell_type": "code",
   "execution_count": null,
   "metadata": {},
   "outputs": [],
   "source": [
    "id_running"
   ]
  },
  {
   "cell_type": "markdown",
   "metadata": {},
   "source": [
    "## EA_data.pkl"
   ]
  },
  {
   "cell_type": "code",
   "execution_count": null,
   "metadata": {},
   "outputs": [],
   "source": [
    "elite_struc, elite_fitness, ea_info, ea_origin = load_data('EA_data.pkl')"
   ]
  },
  {
   "cell_type": "markdown",
   "metadata": {},
   "source": [
    "### elite_struc\n",
    "**elite_struc**: elite structure data  \n",
    "- Type: dict\n",
    "  + The keys are elite structre IDs \n",
    "  + The values are elite structure data in pymatgen format\n",
    "- String form: {0: struc0, 4: struc4, ...}"
   ]
  },
  {
   "cell_type": "code",
   "execution_count": null,
   "metadata": {},
   "outputs": [],
   "source": [
    "elite_struc"
   ]
  },
  {
   "cell_type": "markdown",
   "metadata": {},
   "source": [
    "### elite_fitness\n",
    "**elite_fitness**: fitness of elite structures  \n",
    "- Type: dict  \n",
    "  + The keys are elite structre IDs \n",
    "  + The values are fitness of elite structures\n",
    "- String form: {4: -4.101055417556523, 0: -4.061872594010355}"
   ]
  },
  {
   "cell_type": "code",
   "execution_count": null,
   "metadata": {},
   "outputs": [],
   "source": [
    "elite_fitness"
   ]
  },
  {
   "cell_type": "markdown",
   "metadata": {},
   "source": [
    "### ea_info\n",
    "**ea_info**: information on generational changes  \n",
    "- Type: DataFrame  \n",
    "- String form:  \n",
    "```\n",
    " Gen  Population  Crossover  Permutation  Strain  Random  Elite crs_func crs_lat slct_func\n",
    "   1          10          0            0       0      10      0       OP   equal       TNM\n",
    "   2          10          5            0       3       2      2       OP   equal       TNM\n",
    "```"
   ]
  },
  {
   "cell_type": "code",
   "execution_count": null,
   "metadata": {},
   "outputs": [],
   "source": [
    "ea_info"
   ]
  },
  {
   "cell_type": "markdown",
   "metadata": {},
   "source": [
    "### ea_origin\n",
    "**ea_origin**: information on origins (parents)  \n",
    "- Type: DataFrame  \n",
    "- String form:  \n",
    "```\n",
    " Gen  Struc_ID  Operation  Parent\n",
    "   1         0     random    None\n",
    "   1         1     random    None\n",
    "   1         2     random    None\n",
    "   1         3     random    None\n",
    "   1         4     random    None\n",
    "   1         5     random    None\n",
    "   1         6     random    None\n",
    "   1         7     random    None\n",
    "   1         8     random    None\n",
    "   1         9     random    None\n",
    "   2        10  crossover  (9, 5)\n",
    "   2        11  crossover  (9, 4)\n",
    "   2        12  crossover  (7, 4)\n",
    "   2        13  crossover  (4, 5)\n",
    "   2        14  crossover  (9, 7)\n",
    "   2        15     strain    (0,)\n",
    "   2        16     strain    (4,)\n",
    "   2        17     strain    (9,)\n",
    "   2        18     random    None\n",
    "   2        19     random    None\n",
    "   2         4      elite   elite\n",
    "   2         0      elite   elite\n",
    "```"
   ]
  },
  {
   "cell_type": "code",
   "execution_count": null,
   "metadata": {},
   "outputs": [],
   "source": [
    "ea_origin"
   ]
  },
  {
   "cell_type": "markdown",
   "metadata": {
    "toc-hr-collapsed": false
   },
   "source": [
    "# *_step_data.pkl"
   ]
  },
  {
   "cell_type": "markdown",
   "metadata": {},
   "source": [
    "## energy_step_data.pkl\n",
    "**energy_step_data**: energy-step data  \n",
    "- Type: dict  \n",
    "  + The keys are structre ID\n",
    "  + The values are energy-step numpy.ndarray\n",
    "- String form: {0:  [ [array(stage1, step1), array(stage1, step2), ...], [array(stage2, step1), array(stage2, step2), ...], ... ]}  \n",
    "\n",
    "Example: energy of ID 7, stage 2, step 5\n",
    "``` python\n",
    "# energy_step_data[ID][stage][step]\n",
    "# energy_step_data[ID][0] <-- stage 1\n",
    "# energy_step_data[ID][1] <-- stage 2\n",
    "#\n",
    "# in LAQA\n",
    "# energy_step_data[ID][0] <-- 1st selection\n",
    "# energy_step_data[ID][1] <-- 2nd selection\n",
    "energy_step_data[7][2-1][5-1]\n",
    "```"
   ]
  },
  {
   "cell_type": "code",
   "execution_count": null,
   "metadata": {},
   "outputs": [],
   "source": [
    "energy_step_data = load_data('energy_step_data.pkl')\n",
    "#energy_step_data = load_data_gz('energy_step_data.pkl.gz')"
   ]
  },
  {
   "cell_type": "code",
   "execution_count": null,
   "metadata": {},
   "outputs": [],
   "source": [
    "# ---------- energy-step data of ID 7, stage 2\n",
    "print(energy_step_data[7][2-1])"
   ]
  },
  {
   "cell_type": "markdown",
   "metadata": {},
   "source": [
    "## struc_step_data.pkl\n",
    "**struc_step_data**: structure-step data  \n",
    "- Type: dict  \n",
    "  + The keys are structre ID  \n",
    "  + The values are structure-step list\n",
    "- String form: {0:  [ [ (stage1, step1), (stage1, step2), ...], [(stage2, step1), (stage2, step2), ...], ...]}  \n",
    "\n",
    "Example: structure of ID 7, stage 2, step 5\n",
    "``` python\n",
    "# struc_step_data[ID][stage][step]\n",
    "# struc_step_data[ID][0] <-- stage 1\n",
    "# struc_step_data[ID][1] <-- stage 2\n",
    "#\n",
    "# in LAQA\n",
    "# struc_step_data[ID][0] <-- 1st selection\n",
    "# struc_step_data[ID][1] <-- 2nd selection\n",
    "sturc_step_data[7][2-1][5-1]\n",
    "```"
   ]
  },
  {
   "cell_type": "code",
   "execution_count": null,
   "metadata": {},
   "outputs": [],
   "source": [
    "#struc_step_data = load_data('struc_step_data.pkl')\n",
    "struc_step_data = load_data_gz('struc_step_data.pkl.gz')"
   ]
  },
  {
   "cell_type": "code",
   "execution_count": null,
   "metadata": {},
   "outputs": [],
   "source": [
    "# ---------- structure-step data of ID 7, stage 2\n",
    "print(struc_step_data[7][2-1])"
   ]
  },
  {
   "cell_type": "markdown",
   "metadata": {},
   "source": [
    "## fs_step_data.pkl"
   ]
  },
  {
   "cell_type": "code",
   "execution_count": null,
   "metadata": {},
   "outputs": [],
   "source": [
    "force_step_data, stress_step_data = load_data('fs_step_data.pkl')\n",
    "#force_step_data, stress_step_data = load_data_gz('fs_step_data.pkl.gz')"
   ]
  },
  {
   "cell_type": "markdown",
   "metadata": {},
   "source": [
    "### force_step_data\n",
    "**force_step_data**: force-step  data  \n",
    "- Type: dict  \n",
    "  + The keys are structre ID  \n",
    "  + The values are force-step numpy.ndarray\n",
    "- String form: {0:  [ [array(stage1, step1), array(stage1, step2), ...], [array(stage2, step1), array(stage2, step2), ...], ... ]}  \n",
    "\n",
    "Example: force of ID 7, stage 2, step 5\n",
    "``` python\n",
    "# force_step_data[ID][stage][step]\n",
    "# force_step_data[ID][0] <-- stage 1\n",
    "# force_step_data[ID][1] <-- stage 2\n",
    "#\n",
    "# in LAQA\n",
    "# force_step_data[ID][0] <-- 1st selection\n",
    "# force_step_data[ID][1] <-- 2nd selection\n",
    "force_step_data[7][2-1][5-1]\n",
    "```"
   ]
  },
  {
   "cell_type": "code",
   "execution_count": null,
   "metadata": {},
   "outputs": [],
   "source": [
    "print(force_step_data[7][2-1][5-1])"
   ]
  },
  {
   "cell_type": "markdown",
   "metadata": {},
   "source": [
    "### stress_step_data\n",
    "**stress_step_data**: stress-step  data  \n",
    "- Type: dict  \n",
    "  + The keys are structre ID  \n",
    "  + The values are stress-step numpy.ndarray\n",
    "- String form: {0:  [ [array(stage1, step1), array(stage1, step2), ...], [array(stage2, step1), array(stage2, step2), ...], ... ]}  \n",
    "\n",
    "Example: stress of ID 7, stage 2, step 5\n",
    "``` python\n",
    "# stress_step_data[ID][stage][step]\n",
    "# stress_step_data[ID][0] <-- stage 1\n",
    "# stress_step_data[ID][1] <-- stage 2\n",
    "#\n",
    "# in LAQA\n",
    "# stress_step_data[ID][0] <-- 1st selection\n",
    "# stress_step_data[ID][1] <-- 2nd selection\n",
    "stress_step_data[7][2-1][5-1]\n",
    "```"
   ]
  },
  {
   "cell_type": "code",
   "execution_count": null,
   "metadata": {},
   "outputs": [],
   "source": [
    "print(stress_step_data[7][2-1][5-1])"
   ]
  }
 ],
 "metadata": {
  "anaconda-cloud": {},
  "kernelspec": {
   "display_name": "Python 3",
   "language": "python",
   "name": "python3"
  },
  "language_info": {
   "codemirror_mode": {
    "name": "ipython",
    "version": 3
   },
   "file_extension": ".py",
   "mimetype": "text/x-python",
   "name": "python",
   "nbconvert_exporter": "python",
   "pygments_lexer": "ipython3",
   "version": "3.7.5"
  },
  "toc": {
   "nav_menu": {
    "height": "225px",
    "width": "252px"
   },
   "number_sections": true,
   "sideBar": true,
   "skip_h1_title": false,
   "toc_cell": false,
   "toc_position": {},
   "toc_section_display": "block",
   "toc_window_display": false
  },
  "toc-autonumbering": true,
  "varInspector": {
   "cols": {
    "lenName": 16,
    "lenType": 16,
    "lenVar": 40
   },
   "kernels_config": {
    "python": {
     "delete_cmd_postfix": "",
     "delete_cmd_prefix": "del ",
     "library": "var_list.py",
     "varRefreshCmd": "print(var_dic_list())"
    },
    "r": {
     "delete_cmd_postfix": ") ",
     "delete_cmd_prefix": "rm(",
     "library": "var_list.r",
     "varRefreshCmd": "cat(var_dic_list()) "
    }
   },
   "types_to_exclude": [
    "module",
    "function",
    "builtin_function_or_method",
    "instance",
    "_Feature"
   ],
   "window_display": false
  }
 },
 "nbformat": 4,
 "nbformat_minor": 4
}
