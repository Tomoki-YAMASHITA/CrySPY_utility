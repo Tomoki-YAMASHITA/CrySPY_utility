{
 "cells": [
  {
   "cell_type": "markdown",
   "metadata": {},
   "source": [
    "2024 May 30, updated"
   ]
  },
  {
   "cell_type": "markdown",
   "metadata": {},
   "source": [
    "# Import and setting"
   ]
  },
  {
   "cell_type": "code",
   "execution_count": null,
   "metadata": {},
   "outputs": [],
   "source": [
    "# ---------- import\n",
    "import pickle\n",
    "\n",
    "import matplotlib.pyplot as plt\n",
    "import numpy as np"
   ]
  },
  {
   "cell_type": "code",
   "execution_count": null,
   "metadata": {},
   "outputs": [],
   "source": [
    "rcParams_dict = {\n",
    "    # ---------- figure\n",
    "    'figure.figsize': [8, 6],\n",
    "    'figure.dpi': 120,\n",
    "    'figure.facecolor': 'white',\n",
    "    # ---------- axes\n",
    "    'axes.grid': True,\n",
    "    'axes.linewidth': 1.5,\n",
    "    # ---------- ticks\n",
    "    'xtick.direction': 'in',\n",
    "    'ytick.direction': 'in',\n",
    "    'xtick.major.width': 1.0,\n",
    "    'ytick.major.width': 1.0,\n",
    "    'xtick.major.size': 8.0,\n",
    "    'ytick.major.size': 8.0,\n",
    "    # ---------- lines\n",
    "    'lines.linewidth': 2.5,\n",
    "    'lines.markersize': 12,\n",
    "    # ---------- grid\n",
    "    'grid.linestyle': ':',\n",
    "    # ---------- font\n",
    "    'font.family': 'Times New Roman',\n",
    "    'mathtext.fontset': 'cm',\n",
    "    #'mathtext.fontset': 'stix',\n",
    "    'font.size': 20,\n",
    "    'axes.labelsize': 26,\n",
    "    'legend.fontsize': 26,\n",
    "    'svg.fonttype': 'path',  # Embed characters as paths\n",
    "    #'svg.fonttype': 'none',  # Assume fonts are installed on the machine\n",
    "    'pdf.fonttype': 42,  # embed fonts in PDF using type42 (True type)\n",
    "}\n",
    "\n",
    "plt.rcParams.update(rcParams_dict)"
   ]
  },
  {
   "cell_type": "markdown",
   "metadata": {},
   "source": [
    "# Data"
   ]
  },
  {
   "cell_type": "code",
   "execution_count": null,
   "metadata": {},
   "outputs": [],
   "source": [
    "def load_data(filename):\n",
    "    if filename.endswith('.gz'):\n",
    "        with gzip.open(filename, 'rb') as f:\n",
    "            return pickle.load(f)\n",
    "    else:\n",
    "        with open(filename, 'rb') as f:\n",
    "            return pickle.load(f)"
   ]
  },
  {
   "cell_type": "code",
   "execution_count": null,
   "metadata": {},
   "outputs": [],
   "source": [
    "rslt_data = load_data('./pkl_data/rslt_data.pkl')\n",
    "\n",
    "# ---------- sort Selection\n",
    "#rslt_data.head(10)\n",
    "\n",
    "# ---------- sort by Energy\n",
    "rslt_data.sort_values(by=['E_eV_atom']).head(10)"
   ]
  },
  {
   "cell_type": "code",
   "execution_count": null,
   "metadata": {},
   "outputs": [],
   "source": [
    "# ---------- Generation\n",
    "gmax = rslt_data['Gen'].max()\n",
    "print(f'Number of generation: {gmax}')\n",
    "\n",
    "# ---------- Number of structures\n",
    "ndata = len(rslt_data)\n",
    "print(f'Number of data: {ndata}')\n",
    "\n",
    "# ---------- check success and error\n",
    "nsuccess = rslt_data['E_eV_atom'].count()\n",
    "nerror = ndata - nsuccess\n",
    "print(f'Success: {nsuccess}')\n",
    "print(f'Error: {nerror}')\n",
    "\n",
    "# ---------- minimum\n",
    "Emin = rslt_data['E_eV_atom'].min()\n",
    "print(f'Emin: {Emin} eV/atom')"
   ]
  },
  {
   "cell_type": "markdown",
   "metadata": {},
   "source": [
    "# Energy vs. trial"
   ]
  },
  {
   "cell_type": "code",
   "execution_count": null,
   "metadata": {},
   "outputs": [],
   "source": [
    "title = 'Evolutionary algorithm for Si$_{16}$'\n",
    "dx = 1\n",
    "xmin = 0\n",
    "xmax = ndata + dx\n",
    "ymin = -0.2\n",
    "ymax = 3.0"
   ]
  },
  {
   "cell_type": "code",
   "execution_count": null,
   "metadata": {},
   "outputs": [],
   "source": [
    "fig, ax = plt.subplots()\n",
    "\n",
    "# ---------- axis\n",
    "ax.set_xlim([xmin, xmax])\n",
    "ax.set_ylim([ymin, ymax])\n",
    "\n",
    "# ---------- hline at zero\n",
    "ax.hlines(0.0, xmin, xmax, 'k', '--')\n",
    "\n",
    "# ---------- plot\n",
    "#ax.plot(rslt_data['E_eV_atom'] - Emin, 'o', ms=15, mew=2.0, alpha=0.8)\n",
    "\n",
    "\n",
    "# ---------- color coded by generation\n",
    "tx = 0\n",
    "for g in range(1, gmax+1):    # generation starts from 1\n",
    "    gfilter = rslt_data['Gen'] == g\n",
    "    num = len(rslt_data[gfilter])\n",
    "    x = np.arange(1, num+1) + tx\n",
    "    ax.plot(x, rslt_data['E_eV_atom'][gfilter] - Emin, 'o', ms=15, mew=2.0, alpha=0.8)\n",
    "    tx += num\n",
    "\n",
    "# ---------- title and label\n",
    "ax.set_title(title)\n",
    "ax.set_xlabel('Number of structures')\n",
    "ax.set_ylabel('Energy (eV/atom)')"
   ]
  },
  {
   "cell_type": "code",
   "execution_count": null,
   "metadata": {},
   "outputs": [],
   "source": [
    "filename = 'Si16_EA.png'\n",
    "#filename = 'Si16_EA.pdf'"
   ]
  },
  {
   "cell_type": "code",
   "execution_count": null,
   "metadata": {},
   "outputs": [],
   "source": [
    "# ---------- save figure\n",
    "fig.savefig(filename, bbox_inches='tight')    # PNG, PDF\n",
    "#fig.savefig(filename, bbox_inches='tight', dpi=300)    # high dpi PNG"
   ]
  },
  {
   "cell_type": "code",
   "execution_count": null,
   "metadata": {},
   "outputs": [],
   "source": []
  }
 ],
 "metadata": {
  "anaconda-cloud": {},
  "kernelspec": {
   "display_name": "Python 3",
   "language": "python",
   "name": "python3"
  },
  "language_info": {
   "codemirror_mode": {
    "name": "ipython",
    "version": 3
   },
   "file_extension": ".py",
   "mimetype": "text/x-python",
   "name": "python",
   "nbconvert_exporter": "python",
   "pygments_lexer": "ipython3",
   "version": "3.10.12"
  },
  "toc": {
   "nav_menu": {
    "height": "84px",
    "width": "252px"
   },
   "number_sections": true,
   "sideBar": true,
   "skip_h1_title": false,
   "toc_cell": false,
   "toc_position": {},
   "toc_section_display": "block",
   "toc_window_display": true
  }
 },
 "nbformat": 4,
 "nbformat_minor": 4
}
