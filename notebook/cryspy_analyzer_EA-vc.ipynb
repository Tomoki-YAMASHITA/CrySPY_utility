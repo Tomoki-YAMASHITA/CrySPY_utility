{
 "cells": [
  {
   "cell_type": "markdown",
   "metadata": {},
   "source": [
    "# Impoert and setting"
   ]
  },
  {
   "cell_type": "code",
   "execution_count": null,
   "metadata": {},
   "outputs": [],
   "source": [
    "import gzip\n",
    "import pickle\n",
    "\n",
    "import numpy as np\n",
    "import matplotlib.pyplot as plt\n",
    "from matplotlib import set_loglevel\n",
    "from pymatgen.entries.computed_entries import ComputedEntry\n",
    "from pymatgen.analysis.phase_diagram import PhaseDiagram, PDPlotter"
   ]
  },
  {
   "cell_type": "code",
   "execution_count": null,
   "metadata": {},
   "outputs": [],
   "source": [
    "rcParams_dict = {\n",
    "    # ---------- figure\n",
    "    'figure.figsize': (8, 6),\n",
    "    'figure.dpi': 120,\n",
    "    'figure.facecolor': 'white',\n",
    "    # ---------- axes\n",
    "    'axes.grid': True,\n",
    "    'axes.linewidth': 1.5,\n",
    "    # ---------- ticks\n",
    "    'xtick.direction': 'in',\n",
    "    'ytick.direction': 'in',\n",
    "    'xtick.major.width': 1.0,\n",
    "    'ytick.major.width': 1.0,\n",
    "    'xtick.major.size': 8.0,\n",
    "    'ytick.major.size': 8.0,\n",
    "    # ---------- lines\n",
    "    'lines.linewidth': 1.5,\n",
    "    'lines.markersize': 8,\n",
    "    # ---------- grid\n",
    "    'grid.linestyle': ':',\n",
    "    # ---------- font\n",
    "    'font.family': ['Times New Roman', 'Liberation Serif'],\n",
    "    'mathtext.fontset': 'cm',\n",
    "    #'mathtext.fontset': 'stix',\n",
    "    'font.size': 16,\n",
    "    'axes.labelsize': 20,\n",
    "    'legend.fontsize': 20,\n",
    "    'svg.fonttype': 'path',  # Embed characters as paths\n",
    "    #'svg.fonttype': 'none',  # Assume fonts are installed on the machine\n",
    "    'pdf.fonttype': 42,  # embed fonts in PDF using type42 (True type)\n",
    "}\n",
    "\n",
    "set_loglevel('error')\n",
    "plt.rcParams.update(rcParams_dict)"
   ]
  },
  {
   "cell_type": "markdown",
   "metadata": {},
   "source": [
    "# Load data"
   ]
  },
  {
   "cell_type": "code",
   "execution_count": null,
   "metadata": {},
   "outputs": [],
   "source": [
    "def load_data(filename):\n",
    "    if filename.endswith('.gz'):\n",
    "        with gzip.open(filename, 'rb') as f:\n",
    "            return pickle.load(f)\n",
    "    else:\n",
    "        with open(filename, 'rb') as f:\n",
    "            return pickle.load(f)"
   ]
  },
  {
   "cell_type": "code",
   "execution_count": null,
   "metadata": {},
   "outputs": [],
   "source": [
    "rslt_data = load_data('./pkl_data/rslt_data.pkl')"
   ]
  },
  {
   "cell_type": "code",
   "execution_count": null,
   "metadata": {},
   "outputs": [],
   "source": [
    "rslt_data"
   ]
  },
  {
   "cell_type": "code",
   "execution_count": null,
   "metadata": {},
   "outputs": [],
   "source": [
    "# ---------- current generation\n",
    "gen = rslt_data['Gen'].max()\n",
    "c_rslt = rslt_data[rslt_data['Gen'] == gen]\n",
    "cgen_ids = c_rslt.index.values    # current IDs [array]\n",
    "cgen_ids"
   ]
  },
  {
   "cell_type": "code",
   "execution_count": null,
   "metadata": {},
   "outputs": [],
   "source": [
    "e_all = rslt_data['E_eV_atom'].to_dict()\n",
    "nat_data = load_data('./pkl_data/nat_data.pkl')\n",
    "rin = load_data('./pkl_data/input_data.pkl')"
   ]
  },
  {
   "cell_type": "code",
   "execution_count": null,
   "metadata": {},
   "outputs": [],
   "source": [
    "atype = rin.atype\n",
    "end_point = rin.end_point\n",
    "emax_ea = rin.emax_ea\n",
    "emin_ea = rin.emin_ea\n",
    "show_max = rin.show_max\n",
    "label_stable = rin.label_stable\n",
    "vmax = rin.vmax\n",
    "\n",
    "print(atype)\n",
    "print(end_point)\n",
    "print(emax_ea)\n",
    "print(emin_ea)\n",
    "print(show_max)\n",
    "print(label_stable)\n",
    "print(vmax)\n",
    "\n",
    "# ---------- manually set\n",
    "# atype = ('Cu', 'Sn', 'S')\n",
    "# end_point = (0.0, 0.0, 0.0)\n",
    "# emax_ea = 20\n",
    "# emin_ea = -20\n",
    "# show_max = 0.05\n",
    "# label_stable = True\n",
    "# vmax = 0.05"
   ]
  },
  {
   "cell_type": "markdown",
   "metadata": {},
   "source": [
    "# Phase diagram"
   ]
  },
  {
   "cell_type": "markdown",
   "metadata": {},
   "source": [
    "## Calculate phase diagram and hull distance"
   ]
  },
  {
   "cell_type": "code",
   "execution_count": null,
   "metadata": {},
   "outputs": [],
   "source": [
    "# ---------- calculate data\n",
    "entries = {}\n",
    "for cid, e in e_all.items():\n",
    "    # ------ np.nan\n",
    "    if np.isnan(e):\n",
    "        continue\n",
    "    # ------ emax_ea\n",
    "    if emax_ea is not None:\n",
    "        if e > emax_ea:\n",
    "            print(f'Eliminate ID {cid} from convex hull: {e} > emax_ea')\n",
    "            continue\n",
    "    # ------ emin_ea\n",
    "    if emin_ea is not None:\n",
    "        if e < emin_ea:\n",
    "            print(f'Eliminate ID {cid} from convex hull: {e} < emin_ea')\n",
    "            continue\n",
    "    # ------ entry\n",
    "    composition = \"\".join(f\"{element}{nat_i}\" for element, nat_i in zip(atype, nat_data[cid]))\n",
    "    entries[cid] = ComputedEntry(composition, e*sum(nat_data[cid]), entry_id=cid)\n",
    "\n",
    "# ---------- end points\n",
    "end_entry_values = [ComputedEntry(element, end_e) for element, end_e in zip(atype, end_point)]\n",
    "\n",
    "# ---------- PhaseDiagram and hull distance\n",
    "pd = PhaseDiagram(end_entry_values + list(entries.values()))\n",
    "hdist = {cid: pd.get_e_above_hull(entries[cid]) for cid in entries}"
   ]
  },
  {
   "cell_type": "code",
   "execution_count": null,
   "metadata": {},
   "outputs": [],
   "source": [
    "hdist"
   ]
  },
  {
   "cell_type": "markdown",
   "metadata": {},
   "source": [
    "## Plotly"
   ]
  },
  {
   "cell_type": "code",
   "execution_count": null,
   "metadata": {},
   "outputs": [],
   "source": [
    "plotter = PDPlotter(pd, show_unstable=0.05)\n",
    "plotter.show()"
   ]
  },
  {
   "cell_type": "markdown",
   "metadata": {},
   "source": [
    "## Ternery system, 3D plot, Plotly"
   ]
  },
  {
   "cell_type": "code",
   "execution_count": null,
   "metadata": {},
   "outputs": [],
   "source": [
    "plotter = PDPlotter(pd, ternary_style='3d')\n",
    "plotter.show()"
   ]
  },
  {
   "cell_type": "markdown",
   "metadata": {},
   "source": [
    "## Binary system, matplotlib\n",
    "This is only for binary systems."
   ]
  },
  {
   "cell_type": "code",
   "execution_count": null,
   "metadata": {},
   "outputs": [],
   "source": [
    "fig, ax = plt.subplots(1, 1)\n",
    "plotter_mpl = PDPlotter(pd, show_unstable=0.0, backend='matplotlib', linewidth=1.5, markerfacecolor='darkslateblue', markersize=12)\n",
    "plotter_mpl.get_plot(label_stable=label_stable, label_unstable=False, ax=ax)\n",
    "\n",
    "ax.set_axisbelow(True)\n",
    "# ---------- hline\n",
    "ax.axhline(y=0, xmin=0, xmax=1, color='black', linestyle='--', zorder=1)\n",
    "\n",
    "\n",
    "# ---------- label for only binary system\n",
    "# default fontweight is 'bold' in PDPlotter, so set 'normal'\n",
    "ax.set_xlabel('Composition', fontsize=24, fontweight='normal')\n",
    "ax.set_ylabel('Formation energy (eV/atom)', fontsize=24, fontweight='normal')\n",
    "\n",
    "# ---------- texts\n",
    "for text in ax.texts:\n",
    "    text.set_fontsize(14)\n",
    "    text.set_fontweight('normal')    # bold --> normal\n",
    "\n",
    "# ---------- scatter: unstable entries\n",
    "scat_x = []\n",
    "scat_y= []\n",
    "scat_c = []\n",
    "lines, stable_entries, unstable_entries = plotter_mpl.pd_plot_data\n",
    "for entry, coord in unstable_entries.items():\n",
    "    if entry.entry_id is not None:\n",
    "        scat_x.append(coord[0])\n",
    "        scat_y.append(coord[1])\n",
    "        scat_c.append(hdist[entry.entry_id])\n",
    "mappable = ax.scatter(scat_x, scat_y, s=50, c=scat_c, vmin=0, vmax=vmax, cmap='Oranges_r', marker='D', edgecolors='black', zorder=2)\n",
    "cbar = fig.colorbar(mappable, ax=ax, shrink=0.8, pad=0.05)\n",
    "cbar.ax.tick_params(labelsize=14)\n",
    "cbar.set_label('Hull distance (eV/atom)', size=20, rotation=270, labelpad=30)\n",
    "\n",
    "# ---------- mark the current generation\n",
    "stable_compos = {entry.entry_id: compos for compos, entry in stable_entries.items()}\n",
    "unstable_compos = {entry.entry_id: compos for entry, compos in unstable_entries.items()}\n",
    "for cid in cgen_ids:\n",
    "    if cid in stable_compos:\n",
    "        mx, my = stable_compos[cid][0], stable_compos[cid][1]\n",
    "        ax.plot(mx, my, '+', markeredgecolor='white')\n",
    "    elif cid in unstable_compos:\n",
    "        mx, my = unstable_compos[cid][0], unstable_compos[cid][1]\n",
    "        ax.plot(mx, my, '+', markersize=10, markeredgewidth=0.5,  markeredgecolor='navy')\n",
    "\n",
    "# ---------- ylim\n",
    "stable_y = list(stable_entries.keys())\n",
    "ymin = min(stable_y, key=lambda x: x[1])[1] -0.01\n",
    "ax.set_ylim(ymin, show_max)"
   ]
  },
  {
   "cell_type": "code",
   "execution_count": null,
   "metadata": {},
   "outputs": [],
   "source": [
    "# ---------- save figure\n",
    "#fig.savefig('hull_distance.png', bbox_inches='tight')    # PNG\n",
    "#fig.savefig('hull_distance.png', bbox_inches='tight', dpi=300)    # high dpi PNG\n",
    "#fig.savefig('hull_distance.svg', bbox_inches='tight')    # SVG\n",
    "#fig.savefig('hull_distance.pdf', bbox_inches='tight')    # PDF"
   ]
  },
  {
   "cell_type": "markdown",
   "metadata": {},
   "source": [
    "## Ternary system, matplotlib"
   ]
  },
  {
   "cell_type": "markdown",
   "metadata": {},
   "source": [
    "This is only for ternary systems."
   ]
  },
  {
   "cell_type": "code",
   "execution_count": null,
   "metadata": {},
   "outputs": [],
   "source": [
    "fig, ax = plt.subplots(1, 1)\n",
    "plotter_mpl = PDPlotter(pd, show_unstable=0.0, backend='matplotlib', linewidth=1.5, markerfacecolor='darkslateblue', markersize=10)\n",
    "plotter_mpl.get_plot(label_stable=label_stable, label_unstable=False, ax=ax)\n",
    "\n",
    "# ---------- texts\n",
    "for text in ax.texts:\n",
    "    text.set_fontsize(14)\n",
    "    text.set_fontweight('normal')    # bold --> normal\n",
    "\n",
    "# ---------- scatter: unstable entries\n",
    "scat_x = []\n",
    "scat_y= []\n",
    "scat_c = []\n",
    "lines, stable_entries, unstable_entries = plotter_mpl.pd_plot_data\n",
    "for entry, coord in unstable_entries.items():\n",
    "    if entry.entry_id is not None:\n",
    "        if hdist[entry.entry_id] <= show_max:\n",
    "            scat_x.append(coord[0])\n",
    "            scat_y.append(coord[1])\n",
    "            scat_c.append(hdist[entry.entry_id])\n",
    "mappable = ax.scatter(scat_x, scat_y, s=30, c=scat_c, vmin=0, vmax=vmax, cmap='Oranges_r', marker='D', edgecolors='black', zorder=3)\n",
    "cbar = fig.colorbar(mappable, ax=ax, shrink=0.6, pad=-0.1)\n",
    "cbar.ax.tick_params(labelsize=14)\n",
    "cbar.set_label('Hull distance (eV/atom)', size=20, rotation=270, labelpad=30)\n",
    "\n",
    "# ---------- mark the current generation\n",
    "stable_compos = {entry.entry_id: compos for compos, entry in stable_entries.items()}\n",
    "unstable_compos = {entry.entry_id: compos for entry, compos in unstable_entries.items()}\n",
    "for cid in cgen_ids:\n",
    "    if cid in hdist and hdist[cid] <= show_max:\n",
    "        if cid in stable_compos:\n",
    "            mx, my = stable_compos[cid][0], stable_compos[cid][1]\n",
    "            ax.plot(mx, my, '+', markeredgecolor='white', zorder=2)\n",
    "        elif cid in unstable_compos:\n",
    "            mx, my = unstable_compos[cid][0], unstable_compos[cid][1]\n",
    "            ax.plot(mx, my, '+', markersize=6, markeredgewidth=0.5,  markeredgecolor='navy', zorder=4)"
   ]
  },
  {
   "cell_type": "code",
   "execution_count": null,
   "metadata": {},
   "outputs": [],
   "source": [
    "# ---------- save figure\n",
    "#fig.savefig('hull_distance.png', bbox_inches='tight')    # PNG\n",
    "#fig.savefig('hull_distance.png', bbox_inches='tight', dpi=300)    # high dpi PNG\n",
    "#fig.savefig('hull_distance.svg', bbox_inches='tight')    # SVG\n",
    "#fig.savefig('hull_distance.pdf', bbox_inches='tight')    # PDF"
   ]
  },
  {
   "cell_type": "code",
   "execution_count": null,
   "metadata": {},
   "outputs": [],
   "source": []
  }
 ],
 "metadata": {
  "kernelspec": {
   "display_name": "base",
   "language": "python",
   "name": "python3"
  },
  "language_info": {
   "codemirror_mode": {
    "name": "ipython",
    "version": 3
   },
   "file_extension": ".py",
   "mimetype": "text/x-python",
   "name": "python",
   "nbconvert_exporter": "python",
   "pygments_lexer": "ipython3",
   "version": "3.10.12"
  }
 },
 "nbformat": 4,
 "nbformat_minor": 2
}
