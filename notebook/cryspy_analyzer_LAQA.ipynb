{
 "cells": [
  {
   "cell_type": "markdown",
   "metadata": {},
   "source": [
    "2024 May 30, updated  \n",
    "for CrySPY 1.3.0"
   ]
  },
  {
   "attachments": {},
   "cell_type": "markdown",
   "metadata": {},
   "source": [
    "# Import and setting"
   ]
  },
  {
   "cell_type": "code",
   "execution_count": null,
   "metadata": {},
   "outputs": [],
   "source": [
    "# ---------- import\n",
    "import gzip\n",
    "import pickle\n",
    "\n",
    "import matplotlib.pyplot as plt\n",
    "from matplotlib.ticker import MultipleLocator\n",
    "from matplotlib.animation import FuncAnimation\n",
    "import numpy as np"
   ]
  },
  {
   "cell_type": "code",
   "execution_count": null,
   "metadata": {},
   "outputs": [],
   "source": [
    "rcParams_dict = {\n",
    "    # ---------- figure\n",
    "    'figure.figsize': [8, 6],\n",
    "    'figure.dpi': 120,\n",
    "    'figure.facecolor': 'white',\n",
    "    # ---------- axes\n",
    "    'axes.grid': True,\n",
    "    'axes.linewidth': 1.5,\n",
    "    # ---------- ticks\n",
    "    'xtick.direction': 'in',\n",
    "    'ytick.direction': 'in',\n",
    "    'xtick.major.width': 1.0,\n",
    "    'ytick.major.width': 1.0,\n",
    "    'xtick.major.size': 8.0,\n",
    "    'ytick.major.size': 8.0,\n",
    "    # ---------- lines\n",
    "    'lines.linewidth': 2.5,\n",
    "    'lines.markersize': 12,\n",
    "    # ---------- grid\n",
    "    'grid.linestyle': ':',\n",
    "    # ---------- font\n",
    "    'font.family': 'Times New Roman',\n",
    "    'mathtext.fontset': 'cm',\n",
    "    #'mathtext.fontset': 'stix',\n",
    "    'font.size': 20,\n",
    "    'axes.labelsize': 26,\n",
    "    'legend.fontsize': 26,\n",
    "    'svg.fonttype': 'path',  # Embed characters as paths\n",
    "    #'svg.fonttype': 'none',  # Assume fonts are installed on the machine\n",
    "    'pdf.fonttype': 42,  # embed fonts in PDF using type42 (True type)\n",
    "}\n",
    "\n",
    "plt.rcParams.update(rcParams_dict)"
   ]
  },
  {
   "attachments": {},
   "cell_type": "markdown",
   "metadata": {},
   "source": [
    "# Data"
   ]
  },
  {
   "cell_type": "code",
   "execution_count": null,
   "metadata": {},
   "outputs": [],
   "source": [
    "def load_data(filename):\n",
    "    if filename.endswith('.gz'):\n",
    "        with gzip.open(filename, 'rb') as f:\n",
    "            return pickle.load(f)\n",
    "    else:\n",
    "        with open(filename, 'rb') as f:\n",
    "            return pickle.load(f)"
   ]
  },
  {
   "cell_type": "code",
   "execution_count": null,
   "metadata": {},
   "outputs": [],
   "source": [
    "rslt_data = load_data('./pkl_data/rslt_data.pkl')\n",
    "\n",
    "# ---------- sort Selection\n",
    "#rslt_data.head(10)\n",
    "\n",
    "# ---------- sort by Energy\n",
    "rslt_data.sort_values(by=['E_eV_atom']).head(10)"
   ]
  },
  {
   "cell_type": "code",
   "execution_count": null,
   "metadata": {},
   "outputs": [],
   "source": [
    "# ---------- Number of structures\n",
    "ndata = len(rslt_data)\n",
    "print(f'Number of data (finished): {ndata}')\n",
    "\n",
    "# ---------- check success and error\n",
    "nsuccess = rslt_data['E_eV_atom'].count()\n",
    "nerror = ndata - nsuccess\n",
    "print(f'Success: {nsuccess}')\n",
    "print(f'Error: {nerror}')\n",
    "\n",
    "# ---------- minimum\n",
    "Emin = rslt_data['E_eV_atom'].min()\n",
    "print(f'Emin: {Emin} eV/atom')"
   ]
  },
  {
   "cell_type": "code",
   "execution_count": null,
   "metadata": {},
   "outputs": [],
   "source": [
    "id_select_hist = load_data('pkl_data/id_select_hist.pkl')\n",
    "tot_step_select = load_data('pkl_data/tot_step_select.pkl')\n",
    "laqa_step = load_data('pkl_data/laqa_step.pkl')\n",
    "laqa_energy = load_data('pkl_data/laqa_energy.pkl')"
   ]
  },
  {
   "attachments": {},
   "cell_type": "markdown",
   "metadata": {},
   "source": [
    "# Energy vs. ID"
   ]
  },
  {
   "cell_type": "code",
   "execution_count": null,
   "metadata": {},
   "outputs": [],
   "source": [
    "title = 'LAQA for Si$_{8}$'\n",
    "dx = 1\n",
    "xmin = -dx\n",
    "xmax = max(rslt_data.index) + dx\n",
    "ymin = -0.2\n",
    "ymax = 3.0"
   ]
  },
  {
   "cell_type": "code",
   "execution_count": null,
   "metadata": {},
   "outputs": [],
   "source": [
    "fig, ax = plt.subplots()\n",
    "\n",
    "# ---------- axis\n",
    "ax.set_xlim([xmin, xmax])\n",
    "ax.set_ylim([ymin, ymax])\n",
    "\n",
    "# ---------- hline at zero\n",
    "ax.hlines(0.0, xmin, xmax, 'k', '--')\n",
    "\n",
    "# ---------- plot\n",
    "ax.plot(rslt_data.index, rslt_data['E_eV_atom'] - Emin, 'o', ms=15, mew=2.0, alpha=0.8)\n",
    "\n",
    "# ---------- title and label\n",
    "ax.set_title(title)\n",
    "ax.set_xlabel('Structure ID')\n",
    "ax.set_ylabel('Energy (eV/atom)')"
   ]
  },
  {
   "cell_type": "code",
   "execution_count": null,
   "metadata": {},
   "outputs": [],
   "source": [
    "filename = 'Si8_LAQA.png'\n",
    "#filename = 'Si8_LAQA.pdf'"
   ]
  },
  {
   "cell_type": "code",
   "execution_count": null,
   "metadata": {},
   "outputs": [],
   "source": [
    "# ---------- save figure\n",
    "fig.savefig(filename, bbox_inches='tight')    # PNG, PDF\n",
    "#fig.savefig(filename, bbox_inches='tight', dpi=300)    # high dpi PNG"
   ]
  },
  {
   "attachments": {},
   "cell_type": "markdown",
   "metadata": {},
   "source": [
    "## LAQA process"
   ]
  },
  {
   "cell_type": "code",
   "execution_count": null,
   "metadata": {},
   "outputs": [],
   "source": [
    "# ---------- top 10\n",
    "rslt_data.sort_values(by=['E_eV_atom']).head(10)"
   ]
  },
  {
   "cell_type": "code",
   "execution_count": null,
   "metadata": {},
   "outputs": [],
   "source": [
    "# select the structure IDs you want to stand out by changing the color in the graph\n",
    "stable_IDs = [2]    # manual input"
   ]
  },
  {
   "attachments": {},
   "cell_type": "markdown",
   "metadata": {},
   "source": [
    "## Required optimization steps"
   ]
  },
  {
   "cell_type": "code",
   "execution_count": null,
   "metadata": {},
   "outputs": [],
   "source": [
    "id_done = rslt_data.index.values"
   ]
  },
  {
   "cell_type": "code",
   "execution_count": null,
   "metadata": {},
   "outputs": [],
   "source": [
    "req_step = {}    # number of steps for each structure\n",
    "req_step_done = 0   # total steps for completed structures\n",
    "for cid, steps in laqa_step.items():\n",
    "        req_step[cid] = sum(steps)\n",
    "        if cid in id_done:\n",
    "            req_step_done += sum(steps)"
   ]
  },
  {
   "cell_type": "code",
   "execution_count": null,
   "metadata": {},
   "outputs": [],
   "source": [
    "print('Total optimization steps:', sum(tot_step_select))\n",
    "print('Number of completed structures:', len(id_done))    # include skip\n",
    "print('Total optimization steps for completed structures:', req_step_done)\n",
    "print('Average number of optimization steps for completed structures:', req_step_done/len(id_done))"
   ]
  },
  {
   "attachments": {},
   "cell_type": "markdown",
   "metadata": {},
   "source": [
    "## Energy vs. step for png figure"
   ]
  },
  {
   "cell_type": "code",
   "execution_count": null,
   "metadata": {},
   "outputs": [],
   "source": [
    "Emin"
   ]
  },
  {
   "cell_type": "code",
   "execution_count": null,
   "metadata": {},
   "outputs": [],
   "source": [
    "title = 'LAQA for Si$_{8}$'\n",
    "dx = 2\n",
    "sps = 50    # step per selection\n",
    "xmin = 0\n",
    "xmax = max(req_step.values())+dx\n",
    "ymin = -0.2\n",
    "ymax = 20"
   ]
  },
  {
   "cell_type": "code",
   "execution_count": null,
   "metadata": {},
   "outputs": [],
   "source": [
    "fig, ax = plt.subplots()\n",
    "\n",
    "# ---------- axis\n",
    "# ------ x axis\n",
    "ax.set_xlim([xmin, xmax])\n",
    "major_x = MultipleLocator(sps)\n",
    "minor_x = MultipleLocator(sps/2)\n",
    "ax.xaxis.set_major_locator(major_x)\n",
    "ax.xaxis.set_minor_locator(minor_x)\n",
    "# ------ y axis\n",
    "ax.set_ylim([ymin, ymax])\n",
    "\n",
    "# ---------- gird\n",
    "ax.grid(which='minor')    # grid: major --> minor\n",
    "\n",
    "# ---------- title and label\n",
    "ax.set_title(title)\n",
    "ax.set_xlabel('Number of step')\n",
    "ax.set_ylabel('Energy (eV/atom)')\n",
    "#plt.tight_layout()\n",
    "\n",
    "# ---------- hline at zero\n",
    "ax.hlines(0.0, xmin, xmax, 'k', '--')\n",
    "\n",
    "# ---------- plot\n",
    "for cid in laqa_energy.keys():\n",
    "    if cid not in stable_IDs:\n",
    "        ax.plot(np.cumsum(laqa_step[cid]), laqa_energy[cid] - Emin, color='royalblue', linewidth=1.5)\n",
    "        if cid in id_done:\n",
    "            ax.plot(req_step[cid], rslt_data.loc[cid, 'E_eV_atom'] - Emin, 'o', color='royalblue', ms=6, mew=2.0, alpha=0.8)\n",
    "    else:\n",
    "        ax.plot(np.cumsum(laqa_step[cid]), laqa_energy[cid] - Emin, color='red')\n",
    "        if cid in id_done:\n",
    "            ax.plot(req_step[cid], rslt_data.loc[cid, 'E_eV_atom'] - Emin, 'o', color='red', ms=6, mew=2.0, alpha=0.8)"
   ]
  },
  {
   "cell_type": "code",
   "execution_count": null,
   "metadata": {},
   "outputs": [],
   "source": [
    "filename = 'Si8_LAQA_step.png'\n",
    "#filename = 'Si8_LAQA_step.pdf'"
   ]
  },
  {
   "cell_type": "code",
   "execution_count": null,
   "metadata": {},
   "outputs": [],
   "source": [
    "# ---------- save figure\n",
    "fig.savefig(filename, bbox_inches='tight')    # PNG, PDF\n",
    "#fig.savefig(filename, bbox_inches='tight', dpi=300)    # high dpi PNG"
   ]
  },
  {
   "attachments": {},
   "cell_type": "markdown",
   "metadata": {},
   "source": [
    "## Energy gif anime"
   ]
  },
  {
   "cell_type": "code",
   "execution_count": null,
   "metadata": {},
   "outputs": [],
   "source": [
    "filename = 'Si8_LAQA_step.gif'\n",
    "# use same values as above\n",
    "# title = 'LAQA for Si$_{8}$'\n",
    "# dx = 2\n",
    "# sps = 50    # step per selection\n",
    "# xmin = 0\n",
    "# xmax = max(req_step.values())+dx\n",
    "# ymin = -0.2\n",
    "# ymax = 20"
   ]
  },
  {
   "cell_type": "code",
   "execution_count": null,
   "metadata": {},
   "outputs": [],
   "source": [
    "# ---------- figure\n",
    "fig2, ax2 = plt.subplots()\n",
    "\n",
    "# --------- initialize\n",
    "lines = []\n",
    "xdata = []\n",
    "ydata = []\n",
    "num_select = {}\n",
    "for cid in range(len(laqa_energy)):\n",
    "    xdata.append([laqa_step[cid][0]])\n",
    "    ydata.append([laqa_energy[cid][0] - Emin])\n",
    "    num_select[cid] = 0\n",
    "    if cid in stable_IDs:\n",
    "        lines.append(ax2.plot([], [], color='red')[0])\n",
    "    else:\n",
    "        lines.append(ax2.plot([], [], color='royalblue', linewidth=1.5)[0])\n",
    "\n",
    "ax2.set_xlim([xmin, xmax])\n",
    "major_x = MultipleLocator(sps)\n",
    "minor_x = MultipleLocator(sps/2)\n",
    "ax2.xaxis.set_major_locator(major_x)\n",
    "ax2.xaxis.set_minor_locator(minor_x)\n",
    "ax2.grid(which='minor')    # grid: major --> minor\n",
    "ax2.set_ylim([ymin, ymax])\n",
    "ax2.set_title(title)\n",
    "ax2.set_xlabel('Number of step')\n",
    "ax2.set_ylabel('Energy (eV/atom)')\n",
    "ax2.hlines(0.0, xmin, xmax, 'k', '--')\n",
    "\n",
    "\n",
    "def init():\n",
    "    return lines\n",
    "\n",
    "# ---------- animate function\n",
    "# frame i --> 0, 1, 2, ...\n",
    "def animate(i):\n",
    "    for cid in id_select_hist[i]:\n",
    "        num_select[cid] += 1\n",
    "        try:\n",
    "            xdata[cid].append(laqa_step[cid][num_select[cid]])\n",
    "            ydata[cid].append(laqa_energy[cid][num_select[cid]] - Emin)\n",
    "            lines[cid].set_data(np.cumsum(xdata[cid]), ydata[cid])\n",
    "        except IndexError:\n",
    "            # no latest results in the middle of calculations\n",
    "            break\n",
    "    return lines\n",
    "\n",
    "\n",
    "# ---------- call the animator\n",
    "anim = FuncAnimation(fig2, animate, init_func=init, frames=len(id_select_hist), blit=True)\n",
    "plt.close()    # not to show the figure in jupyter, only animation\n",
    "\n",
    "# ---------- show or save: chose only one, or you face an error\n",
    "#HTML(anim.to_jshtml())    # show the animation in jupyter\n",
    "anim.save(filename, writer='pillow')    # default: fps=5\n",
    "#anim.save('LAQA.gif', writer='pillow', fps=20)"
   ]
  },
  {
   "cell_type": "code",
   "execution_count": null,
   "metadata": {},
   "outputs": [],
   "source": []
  }
 ],
 "metadata": {
  "kernelspec": {
   "display_name": "Python 3",
   "language": "python",
   "name": "python3"
  },
  "language_info": {
   "codemirror_mode": {
    "name": "ipython",
    "version": 3
   },
   "file_extension": ".py",
   "mimetype": "text/x-python",
   "name": "python",
   "nbconvert_exporter": "python",
   "pygments_lexer": "ipython3",
   "version": "3.10.12"
  },
  "toc": {
   "nav_menu": {},
   "number_sections": true,
   "sideBar": true,
   "skip_h1_title": false,
   "toc_cell": false,
   "toc_position": {},
   "toc_section_display": "block",
   "toc_window_display": true
  }
 },
 "nbformat": 4,
 "nbformat_minor": 4
}
