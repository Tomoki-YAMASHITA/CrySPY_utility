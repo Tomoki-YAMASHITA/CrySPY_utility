{
 "cells": [
  {
   "cell_type": "markdown",
   "metadata": {},
   "source": [
    "# logger\n",
    "Run set_logger() only once. If the output becomes incorrect, please restart the kernel."
   ]
  },
  {
   "cell_type": "code",
   "execution_count": null,
   "metadata": {},
   "outputs": [],
   "source": [
    "####\n",
    "#### when you change set_logger(), you need to restart the kernel\n",
    "####\n",
    "from cryspy.util.utility import set_logger\n",
    "set_logger()\n",
    "#set_logger(noprint=True, logfile='log_cryspy', errfile='err_cryspy')    # write log and err messages to files"
   ]
  },
  {
   "cell_type": "markdown",
   "metadata": {},
   "source": [
    "# Random structure generation\n",
    "## with pyxtal"
   ]
  },
  {
   "cell_type": "code",
   "execution_count": null,
   "metadata": {},
   "outputs": [],
   "source": [
    "from cryspy.RS.gen_struc_RS import gen_pyxtal"
   ]
  },
  {
   "cell_type": "code",
   "execution_count": null,
   "metadata": {},
   "outputs": [],
   "source": [
    "nstruc = 10\n",
    "atype = ('Na', 'Cl')\n",
    "nat = (4, 4)\n",
    "mindist = ((2.0, 1.5),\n",
    "           (1.5, 2.0))\n",
    "spgnum = 'all'"
   ]
  },
  {
   "cell_type": "code",
   "execution_count": null,
   "metadata": {},
   "outputs": [],
   "source": [
    "init_struc_data = gen_pyxtal.gen_struc(\n",
    "    nstruc=nstruc,\n",
    "    atype=atype,\n",
    "    nat=nat,\n",
    "    mindist=mindist,\n",
    "    spgnum=spgnum,\n",
    ")"
   ]
  },
  {
   "cell_type": "code",
   "execution_count": null,
   "metadata": {},
   "outputs": [],
   "source": [
    "init_struc_data"
   ]
  },
  {
   "cell_type": "markdown",
   "metadata": {},
   "source": [
    "# Evolutionary algorithm\n",
    "## Crossover"
   ]
  },
  {
   "cell_type": "markdown",
   "metadata": {},
   "source": [
    "### situation: parent A, parent B --> child"
   ]
  },
  {
   "cell_type": "code",
   "execution_count": null,
   "metadata": {},
   "outputs": [],
   "source": [
    "from cryspy.EA.gen_struc_EA import crossover\n",
    "from cryspy.util.utility import set_logger\n",
    "\n",
    "####\n",
    "#### when you change set_logger(), you need to restart the kernel\n",
    "####\n",
    "set_logger()\n",
    "#set_logger(noprint=True, logfile='log_cryspy', errfile='err_cryspy')    # write log and err messages to files"
   ]
  },
  {
   "cell_type": "markdown",
   "metadata": {},
   "source": [
    "Prepare two parent structures as pymatgen Structure object.  \n",
    "In this example, just use the results of RS for Cu4Au4."
   ]
  },
  {
   "cell_type": "code",
   "execution_count": null,
   "metadata": {},
   "outputs": [],
   "source": [
    "import pickle\n",
    "with open('./Cu4Au4_sample/opt_struc_data.pkl', 'rb') as f:\n",
    "    opt_struc_data = pickle.load(f)"
   ]
  },
  {
   "cell_type": "code",
   "execution_count": null,
   "metadata": {},
   "outputs": [],
   "source": [
    "# you can change parent_A and parent_B\n",
    "parent_A = opt_struc_data[0]\n",
    "parent_B = opt_struc_data[1]"
   ]
  },
  {
   "cell_type": "code",
   "execution_count": null,
   "metadata": {},
   "outputs": [],
   "source": [
    "atype = ('Cu', 'Au')\n",
    "nat = (4, 4)\n",
    "mindist = ((1.5, 1.5),\n",
    "           (1.5, 1.5))"
   ]
  },
  {
   "cell_type": "code",
   "execution_count": null,
   "metadata": {},
   "outputs": [],
   "source": [
    "child = crossover.gen_child(\n",
    "    atype=atype,\n",
    "    nat=nat,\n",
    "    mindist=mindist,\n",
    "    parent_A=parent_A,\n",
    "    parent_B=parent_B,\n",
    ")"
   ]
  },
  {
   "cell_type": "code",
   "execution_count": null,
   "metadata": {},
   "outputs": [],
   "source": [
    "child    # to print in jupyter"
   ]
  },
  {
   "cell_type": "markdown",
   "metadata": {},
   "source": [
    "### situation: parent group, fitness --> children"
   ]
  },
  {
   "cell_type": "code",
   "execution_count": null,
   "metadata": {},
   "outputs": [],
   "source": [
    "from cryspy.EA.survival import survival_fittest\n",
    "from cryspy.EA.gen_struc_EA.select_parents import SelectParents\n",
    "from cryspy.EA.gen_struc_EA import crossover\n",
    "from cryspy.util.utility import set_logger\n",
    "\n",
    "####\n",
    "#### when you change set_logger(), you need to restart the kernel\n",
    "####\n",
    "set_logger()\n",
    "#set_logger(noprint=True, logfile='log_cryspy', errfile='err_cryspy')    # write log and err messages to files"
   ]
  },
  {
   "cell_type": "markdown",
   "metadata": {},
   "source": [
    "Prepare structure and fitness (energy) data as dict.  \n",
    "The key is structure ID.  \n",
    "In this example, just use the results of RS for Cu4Au4.\n",
    "\n",
    "e.g.  \n",
    "struc_data = {0: (pymatgen Structure), 1: (pymatgen Structure), ...}  \n",
    "fitness = {0: 0.019632287242441926, 1: -0.005437509701440302, ...}"
   ]
  },
  {
   "cell_type": "code",
   "execution_count": null,
   "metadata": {},
   "outputs": [],
   "source": [
    "import pickle\n",
    "with open('./Cu4Au4_sample/opt_struc_data.pkl', 'rb') as f:\n",
    "    opt_struc_data = pickle.load(f)\n",
    "with open('./Cu4Au4_sample/rslt_data.pkl', 'rb') as f:\n",
    "    rslt_data = pickle.load(f)"
   ]
  },
  {
   "cell_type": "code",
   "execution_count": null,
   "metadata": {},
   "outputs": [],
   "source": [
    "struc_data = opt_struc_data    # dict\n",
    "fitness = rslt_data['E_eV_atom'].to_dict()    # you may include None or np.nan for values"
   ]
  },
  {
   "cell_type": "code",
   "execution_count": null,
   "metadata": {},
   "outputs": [],
   "source": [
    "fitness    # to print in jupyter"
   ]
  },
  {
   "cell_type": "markdown",
   "metadata": {},
   "source": [
    "Survival of the fittest"
   ]
  },
  {
   "cell_type": "code",
   "execution_count": null,
   "metadata": {},
   "outputs": [],
   "source": [
    "n_fittest = 5    # number of survivors"
   ]
  },
  {
   "cell_type": "code",
   "execution_count": null,
   "metadata": {},
   "outputs": [],
   "source": [
    "ranking, _, _ = survival_fittest(\n",
    "    fitness=fitness,\n",
    "    struc_data=struc_data,\n",
    "    elite_struc=None,\n",
    "    elite_fitness=None,\n",
    "    n_fittest=n_fittest,\n",
    "    fit_reverse=False,\n",
    "    emax_ea=None,\n",
    "    emin_ea=None,\n",
    ")"
   ]
  },
  {
   "cell_type": "markdown",
   "metadata": {},
   "source": [
    "ranking <-- without structure duplication"
   ]
  },
  {
   "cell_type": "code",
   "execution_count": null,
   "metadata": {},
   "outputs": [],
   "source": [
    "ranking    # to print in jupyter"
   ]
  },
  {
   "cell_type": "markdown",
   "metadata": {},
   "source": [
    "SelectParents class"
   ]
  },
  {
   "cell_type": "code",
   "execution_count": null,
   "metadata": {},
   "outputs": [],
   "source": [
    "sp = SelectParents(ranking)    # after set_xxx, we can use sp.get_parents(n_parent)\n",
    "sp.set_tournament(t_size=2)"
   ]
  },
  {
   "cell_type": "markdown",
   "metadata": {},
   "source": [
    "Generate children by crossover"
   ]
  },
  {
   "cell_type": "code",
   "execution_count": null,
   "metadata": {},
   "outputs": [],
   "source": [
    "atype = ('Cu', 'Au')\n",
    "nat = (4, 4)\n",
    "mindist = ((1.5, 1.5),\n",
    "           (1.5, 1.5))\n",
    "n_crsov = 5    # number of structures to be generated\n",
    "id_start = 11"
   ]
  },
  {
   "cell_type": "code",
   "execution_count": null,
   "metadata": {},
   "outputs": [],
   "source": [
    "co_children, co_parents, co_operation = crossover.gen_crossover(\n",
    "    atype=atype,\n",
    "    nat=nat,\n",
    "    mindist=mindist,\n",
    "    struc_data=struc_data,\n",
    "    sp=sp,\n",
    "    n_crsov=n_crsov,\n",
    "    id_start=id_start,\n",
    ")"
   ]
  },
  {
   "cell_type": "code",
   "execution_count": null,
   "metadata": {},
   "outputs": [],
   "source": [
    "co_children    # {id: Structure, ...}"
   ]
  },
  {
   "cell_type": "code",
   "execution_count": null,
   "metadata": {},
   "outputs": [],
   "source": [
    "co_parents   # to print in jupyter"
   ]
  },
  {
   "cell_type": "code",
   "execution_count": null,
   "metadata": {},
   "outputs": [],
   "source": [
    "co_operation    # to print in jupyter"
   ]
  },
  {
   "cell_type": "code",
   "execution_count": null,
   "metadata": {},
   "outputs": [],
   "source": []
  }
 ],
 "metadata": {
  "kernelspec": {
   "display_name": "base",
   "language": "python",
   "name": "python3"
  },
  "language_info": {
   "codemirror_mode": {
    "name": "ipython",
    "version": 3
   },
   "file_extension": ".py",
   "mimetype": "text/x-python",
   "name": "python",
   "nbconvert_exporter": "python",
   "pygments_lexer": "ipython3",
   "version": "3.10.12"
  }
 },
 "nbformat": 4,
 "nbformat_minor": 2
}
