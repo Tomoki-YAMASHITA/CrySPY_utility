{
 "cells": [
  {
   "cell_type": "markdown",
   "metadata": {},
   "source": [
    "# Import and setting"
   ]
  },
  {
   "cell_type": "code",
   "execution_count": null,
   "metadata": {},
   "outputs": [],
   "source": [
    "# ---------- import\n",
    "import pickle\n",
    "\n",
    "import matplotlib.pyplot as plt\n",
    "from matplotlib.ticker import MultipleLocator\n",
    "from matplotlib.animation import FuncAnimation\n",
    "import numpy as np\n",
    "import pandas as pd\n",
    "\n",
    "\n",
    "from IPython.display import HTML    # for animation in jupyter lab"
   ]
  },
  {
   "cell_type": "code",
   "execution_count": null,
   "metadata": {},
   "outputs": [],
   "source": [
    "# ---------- figure size\n",
    "plt.rcParams['figure.figsize'] =[8, 6]\n",
    "\n",
    "# ---------- axes\n",
    "plt.rcParams['axes.grid'] = True\n",
    "plt.rcParams['axes.linewidth'] = 1.5\n",
    "\n",
    "# ---------- ticks\n",
    "plt.rcParams['xtick.direction'] = 'in'\n",
    "plt.rcParams['ytick.direction'] = 'in'\n",
    "plt.rcParams['xtick.major.width'] = 1.0\n",
    "plt.rcParams['ytick.major.width'] = 1.0\n",
    "plt.rcParams['xtick.major.size'] = 8.0\n",
    "plt.rcParams['ytick.major.size'] = 8.0\n",
    "\n",
    "# ---------- lines\n",
    "plt.rcParams['lines.linewidth'] = 2.5\n",
    "\n",
    "# ---------- grid\n",
    "plt.rcParams['grid.linestyle'] = ':'\n",
    "\n",
    "# ---------- font\n",
    "plt.rcParams['font.size'] = 20\n",
    "#plt.rcParams['pdf.fonttype'] = 42    # embed fonts in PDF using type42 (True type)"
   ]
  },
  {
   "cell_type": "markdown",
   "metadata": {},
   "source": [
    "# Data"
   ]
  },
  {
   "cell_type": "code",
   "execution_count": null,
   "metadata": {},
   "outputs": [],
   "source": [
    "def load_pkl(filename):\n",
    "    with open(filename, 'rb') as f:\n",
    "        return pickle.load(f)"
   ]
  },
  {
   "cell_type": "code",
   "execution_count": null,
   "metadata": {},
   "outputs": [],
   "source": [
    "rslt_data = load_pkl('./pkl_data/rslt_data.pkl')\n",
    "\n",
    "# ---------- sort Selection\n",
    "#rslt_data.head(10)\n",
    "\n",
    "# ---------- sort by Energy\n",
    "rslt_data.sort_values(by=['E_eV_atom']).head(10)"
   ]
  },
  {
   "cell_type": "code",
   "execution_count": null,
   "metadata": {},
   "outputs": [],
   "source": [
    "# ---------- Number of structures\n",
    "ndata = len(rslt_data)\n",
    "print('Number of data: {}'.format(ndata))\n",
    "\n",
    "# ---------- check success and error\n",
    "nsuccess = rslt_data['E_eV_atom'].count()\n",
    "nerror = ndata - nsuccess\n",
    "print('Success: {}'.format(nsuccess))\n",
    "print('Error: {}'.format(nerror))\n",
    "\n",
    "# ---------- minimum\n",
    "Emin = rslt_data['E_eV_atom'].min()\n",
    "print('Emin: {} eV/atom'.format(Emin))"
   ]
  },
  {
   "cell_type": "code",
   "execution_count": null,
   "metadata": {},
   "outputs": [],
   "source": [
    "id_queueing, id_running, id_select_hist = load_pkl('pkl_data/LAQA_id_data.pkl')"
   ]
  },
  {
   "cell_type": "code",
   "execution_count": null,
   "metadata": {},
   "outputs": [],
   "source": [
    "tot_step_select, laqa_step, laqa_struc, laqa_energy, laqa_bias, laqa_score = load_pkl('./pkl_data/LAQA_data.pkl')"
   ]
  },
  {
   "cell_type": "markdown",
   "metadata": {},
   "source": [
    "# Energy vs. trial"
   ]
  },
  {
   "cell_type": "code",
   "execution_count": null,
   "metadata": {},
   "outputs": [],
   "source": [
    "fig, ax = plt.subplots()\n",
    "\n",
    "# ---------- axis\n",
    "dx = 1\n",
    "ax.set_xlim([0, ndata+dx])\n",
    "ax.set_ylim([-0.2, 1])\n",
    "\n",
    "# ---------- hline at zero\n",
    "ax.hlines(0.0, -dx, ndata+dx, 'k', '--')\n",
    "\n",
    "# ---------- plot\n",
    "# x <-- ID + 1\n",
    "ax.plot(rslt_data.index + 1, rslt_data['E_eV_atom'] - Emin, 'o', ms=15, mew=2.0, alpha=0.8)\n",
    "\n",
    "# ---------- title and label\n",
    "ax.set_title('LAQA for Na$_{8}$Cl$_8$')\n",
    "ax.set_xlabel('Number of structures')\n",
    "ax.set_ylabel('Energy (eV/atom)')"
   ]
  },
  {
   "cell_type": "code",
   "execution_count": null,
   "metadata": {},
   "outputs": [],
   "source": [
    "# ---------- save figure\n",
    "fig.savefig('Na8Cl8_LAQA.png', bbox_inches='tight')    # PNG\n",
    "#fig.savefig('title_LAQA.png', bbox_inches='tight', dpi=300)    # high dpi PNG\n",
    "#fig.savefig('title_LAQA.pdf', bbox_inches='tight')    # PDF"
   ]
  },
  {
   "cell_type": "markdown",
   "metadata": {},
   "source": [
    "## LAQA process"
   ]
  },
  {
   "cell_type": "code",
   "execution_count": null,
   "metadata": {},
   "outputs": [],
   "source": [
    "# ---------- top 10\n",
    "rslt_data.sort_values(by=['E_eV_atom']).head(10)"
   ]
  },
  {
   "cell_type": "code",
   "execution_count": null,
   "metadata": {},
   "outputs": [],
   "source": [
    "stable_IDs = [0, 6, 1]    # manual input"
   ]
  },
  {
   "cell_type": "markdown",
   "metadata": {},
   "source": [
    "## Required optimization steps"
   ]
  },
  {
   "cell_type": "code",
   "execution_count": null,
   "metadata": {},
   "outputs": [],
   "source": [
    "id_done = rslt_data.index.values"
   ]
  },
  {
   "cell_type": "code",
   "execution_count": null,
   "metadata": {},
   "outputs": [],
   "source": [
    "# only completed structures\n",
    "req_step = {}\n",
    "tot_req_step = 0\n",
    "for cID in id_done:\n",
    "        req_step[cID] = sum(laqa_step[cID])\n",
    "        tot_req_step += sum(laqa_step[cID])"
   ]
  },
  {
   "cell_type": "code",
   "execution_count": null,
   "metadata": {},
   "outputs": [],
   "source": [
    "# number of steps in each ID\n",
    "req_step"
   ]
  },
  {
   "cell_type": "code",
   "execution_count": null,
   "metadata": {},
   "outputs": [],
   "source": [
    "print('Total optimization steps:', sum(tot_step_select))\n",
    "print('Total optimization steps for completed structures:', tot_req_step)\n",
    "print('Number of completed structures:', len(id_done))    # include skip\n",
    "print('Average number of optimization steps for completed structures:', tot_req_step/len(id_done))"
   ]
  },
  {
   "cell_type": "markdown",
   "metadata": {},
   "source": [
    "## Energy vs. step for png figure"
   ]
  },
  {
   "cell_type": "code",
   "execution_count": null,
   "metadata": {},
   "outputs": [],
   "source": [
    "fig, ax = plt.subplots()\n",
    "\n",
    "# ---------- axis\n",
    "# ------ x axis\n",
    "dx = 10\n",
    "ax.set_xlim([0, max(req_step.values())+dx])\n",
    "major_x = MultipleLocator(50)\n",
    "minor_x = MultipleLocator(10)\n",
    "ax.xaxis.set_major_locator(major_x)\n",
    "ax.xaxis.set_minor_locator(minor_x)\n",
    "# ------ y axis\n",
    "ax.set_ylim([-0.2, 1.0])\n",
    "\n",
    "# ---------- gird\n",
    "ax.grid(which='minor')    # grid: major --> minor\n",
    "\n",
    "# ---------- title and label\n",
    "ax.set_title('LAQA for Na$_{8}$Cl$_8$')\n",
    "ax.set_xlabel('Number of step')\n",
    "ax.set_ylabel('Energy (eV/atom)')\n",
    "#plt.tight_layout()\n",
    "\n",
    "# ---------- hline at zero\n",
    "ax.hlines(0.0, 0, max(req_step.values())+dx, 'k', '--')\n",
    "\n",
    "# ---------- plot\n",
    "# ------ not stalbe structures\n",
    "for cID in range(len(laqa_energy)):\n",
    "    if cID == stable_IDs:\n",
    "        pass\n",
    "    else:\n",
    "        ax.plot(np.cumsum(laqa_step[cID]), laqa_energy[cID] - Emin, color='royalblue', linewidth=1.5)\n",
    "# ------ stable structures, bring to front\n",
    "for cID in stable_IDs:\n",
    "    ax.plot(np.cumsum(laqa_step[cID]), laqa_energy[cID] - Emin, color='red')"
   ]
  },
  {
   "cell_type": "code",
   "execution_count": null,
   "metadata": {},
   "outputs": [],
   "source": [
    "# ---------- save figure\n",
    "fig.savefig('Na8Cl8_LAQA.png', bbox_inches='tight')    # PNG\n",
    "#fig.savefig('title_RS.png', bbox_inches='tight', dpi=300)    # high dpi PNG\n",
    "#fig.savefig('title_RS.pdf', bbox_inches='tight')    # PDF"
   ]
  },
  {
   "cell_type": "markdown",
   "metadata": {},
   "source": [
    "## Energy gif anime"
   ]
  },
  {
   "cell_type": "code",
   "execution_count": null,
   "metadata": {},
   "outputs": [],
   "source": [
    "laqa_energy[0][1] - Emin"
   ]
  },
  {
   "cell_type": "code",
   "execution_count": null,
   "metadata": {},
   "outputs": [],
   "source": [
    "# ---------- figure\n",
    "fig2, ax2 = plt.subplots()\n",
    "\n",
    "# --------- initialize\n",
    "lines = []\n",
    "xdata = []\n",
    "ydata = []\n",
    "num_select = {}\n",
    "for cID in range(len(laqa_energy)):\n",
    "    xdata.append([laqa_step[cID][0]])\n",
    "    ydata.append([laqa_energy[cID][0] - Emin])\n",
    "    num_select[cID] = 0\n",
    "    if cID in stable_IDs:\n",
    "        lines.append(ax2.plot([], [], color='red')[0])\n",
    "    else:\n",
    "        lines.append(ax2.plot([], [], color='royalblue', linewidth=1.5)[0])\n",
    "\n",
    "dx = 10   \n",
    "ax2.set_xlim([0, max(req_step.values())+dx])\n",
    "major_x = MultipleLocator(50)\n",
    "minor_x = MultipleLocator(10)\n",
    "ax2.xaxis.set_major_locator(major_x)\n",
    "ax2.xaxis.set_minor_locator(minor_x)\n",
    "ax2.grid(which='minor')    # grid: major --> minor\n",
    "ax2.set_ylim([-0.2, 1.0])\n",
    "ax2.set_title('LAQA for Na$_{8}$Cl$_8$')\n",
    "ax2.set_xlabel('Number of step')\n",
    "ax2.set_ylabel('Energy (eV/atom)')\n",
    "ax2.hlines(0.0, 0, max(req_step.values())+dx, 'k', '--')\n",
    "\n",
    "\n",
    "def init():\n",
    "    return lines\n",
    "\n",
    "# ---------- animate function\n",
    "# frame i --> 0, 1, 2, ...\n",
    "def animate(i):\n",
    "    for cID in id_select_hist[i]:\n",
    "        num_select[cID] += 1\n",
    "        xdata[cID].append(laqa_step[cID][num_select[cID]])\n",
    "        ydata[cID].append(laqa_energy[cID][num_select[cID]] - Emin)\n",
    "        lines[cID].set_data(np.cumsum(xdata[cID]), ydata[cID])\n",
    "    return lines\n",
    "\n",
    "\n",
    "# ---------- call the animator\n",
    "anim = FuncAnimation(fig2, animate, init_func=init, frames=len(id_select_hist), blit=True)\n",
    "plt.close()    # not to show figure, only animation\n",
    "\n",
    "# only choose one, save gif or show here\n",
    "#anim.save('Na8Cl8_LAQA.gif',  writer='imagemagick')\n",
    "HTML(anim.to_jshtml())"
   ]
  },
  {
   "cell_type": "code",
   "execution_count": null,
   "metadata": {},
   "outputs": [],
   "source": []
  }
 ],
 "metadata": {
  "kernelspec": {
   "display_name": "Python 3",
   "language": "python",
   "name": "python3"
  },
  "language_info": {
   "codemirror_mode": {
    "name": "ipython",
    "version": 3
   },
   "file_extension": ".py",
   "mimetype": "text/x-python",
   "name": "python",
   "nbconvert_exporter": "python",
   "pygments_lexer": "ipython3",
   "version": "3.7.5"
  },
  "toc": {
   "nav_menu": {},
   "number_sections": true,
   "sideBar": true,
   "skip_h1_title": false,
   "toc_cell": false,
   "toc_position": {},
   "toc_section_display": "block",
   "toc_window_display": true
  }
 },
 "nbformat": 4,
 "nbformat_minor": 4
}
