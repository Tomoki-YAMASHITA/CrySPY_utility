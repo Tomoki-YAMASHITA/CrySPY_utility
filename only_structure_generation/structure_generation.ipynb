{
 "cells": [
  {
   "cell_type": "markdown",
   "metadata": {},
   "source": [
    "You can generate crystal structures for a given chemical composition partly using CrySPY  \n",
    "(Here no CSP, only structure generation)  \n",
    "\n",
    "See the document of CrySPY for details of arguments  \n",
    "https://tomoki-yamashita.github.io/CrySPY/input_file.html"
   ]
  },
  {
   "cell_type": "markdown",
   "metadata": {},
   "source": [
    "# Import"
   ]
  },
  {
   "cell_type": "code",
   "execution_count": 1,
   "metadata": {},
   "outputs": [],
   "source": [
    "# ---------- set the path of your CrySPY\n",
    "#            check /your_cryspy_path/CrySPY/gen_struc\n",
    "import sys\n",
    "sys.path.append('/your/cryspy_path/CrySPY')"
   ]
  },
  {
   "cell_type": "code",
   "execution_count": 2,
   "metadata": {},
   "outputs": [],
   "source": [
    "import gen_struc as gs"
   ]
  },
  {
   "cell_type": "code",
   "execution_count": 3,
   "metadata": {},
   "outputs": [],
   "source": [
    "# ---------- for data preparetin in EA\n",
    "import pickle"
   ]
  },
  {
   "cell_type": "markdown",
   "metadata": {},
   "source": [
    "# Random structure generation"
   ]
  },
  {
   "cell_type": "markdown",
   "metadata": {},
   "source": [
    "## Rnd_struc_gen class  \n",
    "``` python\n",
    "Rnd_struc_gen(natot, atype, nat, minlen, maxlen, dangle, mindist, maxcnt=50, symprec=0.001)  \n",
    "```\n",
    "\n",
    "There are two ways  \n",
    "  1) with space group infromation (symmetry)  \n",
    "  2) without space gruop information"
   ]
  },
  {
   "cell_type": "code",
   "execution_count": 4,
   "metadata": {},
   "outputs": [],
   "source": [
    "# ---------- example of Si4O8\n",
    "natot = 12\n",
    "atype = ['Si', 'O']\n",
    "nat = [4, 8]\n",
    "minlen = 4\n",
    "maxlen = 10\n",
    "dangle = 20.0\n",
    "mindist = [[1.8, 1.3],\n",
    "           [1.3, 1.5]]"
   ]
  },
  {
   "cell_type": "code",
   "execution_count": 5,
   "metadata": {},
   "outputs": [],
   "source": [
    "# ---------- instantiate Rnd_struc_gen class\n",
    "rsg = gs.random.Rnd_struc_gen(natot, atype, nat, minlen, maxlen, dangle, mindist)"
   ]
  },
  {
   "cell_type": "markdown",
   "metadata": {},
   "source": [
    "## When you use space group information (symmetry) for structure generation\n",
    "\n",
    "find_wy program is required  \n",
    "tmp_gen_struc directory is temporaryly made in the current directory"
   ]
  },
  {
   "cell_type": "code",
   "execution_count": 6,
   "metadata": {},
   "outputs": [],
   "source": [
    "# ---------- setting \n",
    "nstruc = 5                    # number of structures\n",
    "spgnum = 'all'                # all space gruop (default: all)\n",
    "# spgnum = [100, 150]         # if you want to use only space group 100 and 150\n",
    "id_offset = 0                 # Structure ID starts from id_offset (default: 0)\n",
    "#init_pos_path = None         # if you specify a file path,\n",
    "init_pos_path = './POSCARS'   #    structure data in POSCAR format are written in the file\n",
    "                              #    you can open this file using VESTA"
   ]
  },
  {
   "cell_type": "code",
   "execution_count": 7,
   "metadata": {},
   "outputs": [],
   "source": [
    "# ---------- path of find_wy\n",
    "fwpath = '/path/to/find_wy'"
   ]
  },
  {
   "cell_type": "code",
   "execution_count": 8,
   "metadata": {},
   "outputs": [
    {
     "name": "stdout",
     "output_type": "stream",
     "text": [
      "Structure ID      0 was generated. Space group: 130 --> 129 P4/nmm\n",
      "Structure ID      1 was generated. Space group: 139 --> 139 I4/mmm\n",
      "Structure ID      2 was generated. Space group: 193 --> 191 P6/mmm\n",
      "Structure ID      3 was generated. Space group:  16 -->  47 Pmmm\n",
      "Structure ID      4 was generated. Space group:  69 -->  69 Fmmm\n"
     ]
    }
   ],
   "source": [
    "# ---------- generate structure\n",
    "rsg.gen_with_spg(nstruc, spgnum, id_offset, init_pos_path, fwpath=fwpath)"
   ]
  },
  {
   "cell_type": "markdown",
   "metadata": {},
   "source": [
    "You can access generated structure data to see rsg.init_struc_data  \n",
    "rsg.init_sturc_data is dict type like {0: struc_data_0, 1: struc_data_1, ... , ID: struc_data_ID}"
   ]
  },
  {
   "cell_type": "code",
   "execution_count": 9,
   "metadata": {},
   "outputs": [
    {
     "data": {
      "text/plain": [
       "Structure Summary\n",
       "Lattice\n",
       "    abc : 8.5363921716 8.5363921716 9.5472082748\n",
       " angles : 90.0 90.0 90.0\n",
       " volume : 695.7049839941718\n",
       "      A : 8.5363921716 0.0 0.0\n",
       "      B : 0.0 8.5363921716 0.0\n",
       "      C : 0.0 0.0 9.5472082748\n",
       "PeriodicSite: Si (0.0000, 0.0000, 2.3868) [0.0000, 0.0000, 0.2500]\n",
       "PeriodicSite: Si (4.2682, 4.2682, 2.3868) [0.5000, 0.5000, 0.2500]\n",
       "PeriodicSite: Si (4.2682, 4.2682, 7.1604) [0.5000, 0.5000, 0.7500]\n",
       "PeriodicSite: Si (0.0000, 0.0000, 7.1604) [0.0000, 0.0000, 0.7500]\n",
       "PeriodicSite: O (0.0000, 4.2682, 5.3848) [0.0000, 0.5000, 0.5640]\n",
       "PeriodicSite: O (4.2682, 0.0000, -0.6112) [0.5000, 0.0000, -0.0640]\n",
       "PeriodicSite: O (4.2682, 0.0000, -5.3848) [0.5000, 0.0000, -0.5640]\n",
       "PeriodicSite: O (0.0000, 4.2682, 10.1584) [0.0000, 0.5000, 1.0640]\n",
       "PeriodicSite: O (0.0000, 4.2682, 3.4059) [0.0000, 0.5000, 0.3567]\n",
       "PeriodicSite: O (4.2682, 0.0000, 1.3677) [0.5000, 0.0000, 0.1433]\n",
       "PeriodicSite: O (4.2682, 0.0000, -3.4059) [0.5000, 0.0000, -0.3567]\n",
       "PeriodicSite: O (0.0000, 4.2682, 8.1795) [0.0000, 0.5000, 0.8567]"
      ]
     },
     "execution_count": 9,
     "metadata": {},
     "output_type": "execute_result"
    }
   ],
   "source": [
    "# ---------- e.g. ID 0\n",
    "rsg.init_struc_data[0]"
   ]
  },
  {
   "cell_type": "markdown",
   "metadata": {},
   "source": [
    "## When you DO NOT use space group information (symmetry) for structure generation\n",
    "\n",
    "find_wy program is NOT required  "
   ]
  },
  {
   "cell_type": "code",
   "execution_count": 10,
   "metadata": {},
   "outputs": [],
   "source": [
    "# ---------- setting \n",
    "nstruc = 5                    # number of structures you will generate\n",
    "spgnum = 0                    # no symmetry\n",
    "id_offset = 0                 # Structure ID starts from id_offset (default: 0)\n",
    "#init_pos_path = None         # if you specify a file path,\n",
    "init_pos_path = './POSCARS'   #    structure data in POSCAR format are written in the file\n",
    "                              #    you can open this file using VESTA"
   ]
  },
  {
   "cell_type": "code",
   "execution_count": 11,
   "metadata": {},
   "outputs": [
    {
     "name": "stdout",
     "output_type": "stream",
     "text": [
      "Structure ID      0 was generated. Space group:   1 P1\n",
      "Structure ID      1 was generated. Space group:   1 P1\n",
      "Structure ID      2 was generated. Space group:   1 P1\n",
      "Structure ID      3 was generated. Space group:   1 P1\n",
      "Structure ID      4 was generated. Space group:   1 P1\n"
     ]
    }
   ],
   "source": [
    "# ---------- generate structure\n",
    "rsg.gen_wo_spg(nstruc, id_offset, init_pos_path)"
   ]
  },
  {
   "cell_type": "markdown",
   "metadata": {},
   "source": [
    "You can access generated structure data to see rsg.init_struc_data  \n",
    "rsg.init_sturc_data is dict type like {0: struc_data_0, 1: struc_data_1, ... , ID: struc_data_ID}"
   ]
  },
  {
   "cell_type": "code",
   "execution_count": 12,
   "metadata": {},
   "outputs": [
    {
     "data": {
      "text/plain": [
       "Structure Summary\n",
       "Lattice\n",
       "    abc : 6.298986085616132 6.298986085616132 4.425396479289587\n",
       " angles : 90.0 90.0 90.0\n",
       " volume : 175.58745495078747\n",
       "      A : 6.298986085616132 0.0 0.0\n",
       "      B : 3.857016573811756e-16 6.298986085616132 0.0\n",
       "      C : 2.7097738166599795e-16 2.7097738166599795e-16 4.425396479289587\n",
       "PeriodicSite: Si (3.9884, 2.1561, 3.7157) [0.6332, 0.3423, 0.8396]\n",
       "PeriodicSite: Si (1.4341, 2.0907, 0.0809) [0.2277, 0.3319, 0.0183]\n",
       "PeriodicSite: Si (1.7770, 0.2442, 1.8197) [0.2821, 0.0388, 0.4112]\n",
       "PeriodicSite: Si (4.4552, 4.9589, 4.2943) [0.7073, 0.7873, 0.9704]\n",
       "PeriodicSite: O (1.5869, 5.7924, 0.0311) [0.2519, 0.9196, 0.0070]\n",
       "PeriodicSite: O (1.1559, 2.1744, 1.4088) [0.1835, 0.3452, 0.3183]\n",
       "PeriodicSite: O (3.2611, 1.8654, 1.8974) [0.5177, 0.2961, 0.4288]\n",
       "PeriodicSite: O (6.1176, 5.2960, 1.2416) [0.9712, 0.8408, 0.2806]\n",
       "PeriodicSite: O (3.7168, 3.7673, 0.2011) [0.5901, 0.5981, 0.0455]\n",
       "PeriodicSite: O (0.7541, 5.5006, 3.0234) [0.1197, 0.8732, 0.6832]\n",
       "PeriodicSite: O (2.3278, 5.8851, 2.9642) [0.3696, 0.9343, 0.6698]\n",
       "PeriodicSite: O (0.4587, 3.8308, 2.6160) [0.0728, 0.6082, 0.5911]"
      ]
     },
     "execution_count": 12,
     "metadata": {},
     "output_type": "execute_result"
    }
   ],
   "source": [
    "# ---------- e.g. ID 3\n",
    "rsg.init_struc_data[3]"
   ]
  },
  {
   "cell_type": "markdown",
   "metadata": {},
   "source": [
    "# Structure generation by EA\n",
    "Here, let us use sample data of Si16 (sample_data_Si16_for_EA) as parent data\n",
    "\n",
    "Si16, 10 structures"
   ]
  },
  {
   "cell_type": "markdown",
   "metadata": {},
   "source": [
    "## Load parent data"
   ]
  },
  {
   "cell_type": "code",
   "execution_count": 18,
   "metadata": {},
   "outputs": [],
   "source": [
    "def load_pkl(filename):\n",
    "    with open(filename, 'rb') as f:\n",
    "        return pickle.load(f)"
   ]
  },
  {
   "cell_type": "code",
   "execution_count": 19,
   "metadata": {},
   "outputs": [],
   "source": [
    "# ---------- load optimized structure data\n",
    "opt_struc_data = load_pkl('./sample_data_Si16_for_EA/pkl_data/opt_struc_data.pkl')"
   ]
  },
  {
   "cell_type": "code",
   "execution_count": 20,
   "metadata": {},
   "outputs": [
    {
     "data": {
      "text/html": [
       "<div>\n",
       "<style scoped>\n",
       "    .dataframe tbody tr th:only-of-type {\n",
       "        vertical-align: middle;\n",
       "    }\n",
       "\n",
       "    .dataframe tbody tr th {\n",
       "        vertical-align: top;\n",
       "    }\n",
       "\n",
       "    .dataframe thead th {\n",
       "        text-align: right;\n",
       "    }\n",
       "</style>\n",
       "<table border=\"1\" class=\"dataframe\">\n",
       "  <thead>\n",
       "    <tr style=\"text-align: right;\">\n",
       "      <th></th>\n",
       "      <th>Spg_num</th>\n",
       "      <th>Spg_sym</th>\n",
       "      <th>Spg_num_opt</th>\n",
       "      <th>Spg_sym_opt</th>\n",
       "      <th>E_eV_atom</th>\n",
       "      <th>Magmom</th>\n",
       "      <th>Opt</th>\n",
       "    </tr>\n",
       "  </thead>\n",
       "  <tbody>\n",
       "    <tr>\n",
       "      <th>0</th>\n",
       "      <td>214</td>\n",
       "      <td>I4_132</td>\n",
       "      <td>229</td>\n",
       "      <td>Im-3m</td>\n",
       "      <td>-4.055381</td>\n",
       "      <td>NaN</td>\n",
       "      <td>done</td>\n",
       "    </tr>\n",
       "    <tr>\n",
       "      <th>1</th>\n",
       "      <td>25</td>\n",
       "      <td>Pmm2</td>\n",
       "      <td>59</td>\n",
       "      <td>Pmmn</td>\n",
       "      <td>-3.891756</td>\n",
       "      <td>NaN</td>\n",
       "      <td>done</td>\n",
       "    </tr>\n",
       "    <tr>\n",
       "      <th>2</th>\n",
       "      <td>174</td>\n",
       "      <td>P-6</td>\n",
       "      <td>174</td>\n",
       "      <td>P-6</td>\n",
       "      <td>-3.598403</td>\n",
       "      <td>NaN</td>\n",
       "      <td>done</td>\n",
       "    </tr>\n",
       "    <tr>\n",
       "      <th>3</th>\n",
       "      <td>99</td>\n",
       "      <td>P4mm</td>\n",
       "      <td>99</td>\n",
       "      <td>P4mm</td>\n",
       "      <td>-1.680160</td>\n",
       "      <td>NaN</td>\n",
       "      <td>done</td>\n",
       "    </tr>\n",
       "    <tr>\n",
       "      <th>4</th>\n",
       "      <td>146</td>\n",
       "      <td>R3</td>\n",
       "      <td>148</td>\n",
       "      <td>R-3</td>\n",
       "      <td>-4.217574</td>\n",
       "      <td>NaN</td>\n",
       "      <td>done</td>\n",
       "    </tr>\n",
       "  </tbody>\n",
       "</table>\n",
       "</div>"
      ],
      "text/plain": [
       "   Spg_num Spg_sym  Spg_num_opt Spg_sym_opt  E_eV_atom  Magmom   Opt\n",
       "0      214  I4_132          229       Im-3m  -4.055381     NaN  done\n",
       "1       25    Pmm2           59        Pmmn  -3.891756     NaN  done\n",
       "2      174     P-6          174         P-6  -3.598403     NaN  done\n",
       "3       99    P4mm           99        P4mm  -1.680160     NaN  done\n",
       "4      146      R3          148         R-3  -4.217574     NaN  done"
      ]
     },
     "execution_count": 20,
     "metadata": {},
     "output_type": "execute_result"
    }
   ],
   "source": [
    "# ---------- load rslt_data for energy datta of parent structure\n",
    "rslt_data = load_pkl('./sample_data_Si16_for_EA/pkl_data/rslt_data.pkl')\n",
    "rslt_data    # pandas DataFrame"
   ]
  },
  {
   "cell_type": "code",
   "execution_count": 21,
   "metadata": {},
   "outputs": [],
   "source": [
    "# ---------- get energy data as dict: key is structure ID\n",
    "fitness = rslt_data['E_eV_atom'].to_dict()"
   ]
  },
  {
   "cell_type": "code",
   "execution_count": 22,
   "metadata": {},
   "outputs": [
    {
     "data": {
      "text/plain": [
       "{0: -4.0553805695082525,\n",
       " 1: -3.891756223526888,\n",
       " 2: -3.5984027917691264,\n",
       " 3: -1.680160412683843,\n",
       " 4: -4.217573557286639}"
      ]
     },
     "execution_count": 22,
     "metadata": {},
     "output_type": "execute_result"
    }
   ],
   "source": [
    "fitness"
   ]
  },
  {
   "cell_type": "markdown",
   "metadata": {},
   "source": [
    "If you fail to load the \"rslt_data.pkl\" file owing to difference version of pandas or something,  \n",
    "use the following cell"
   ]
  },
  {
   "cell_type": "code",
   "execution_count": 24,
   "metadata": {},
   "outputs": [],
   "source": [
    "#fitness = {\n",
    "# 0: -4.0553805695082525,\n",
    "# 1: -3.891756223526888,\n",
    "# 2: -3.5984027917691264,\n",
    "# 3: -1.680160412683843,\n",
    "# 4: -4.217573557286639\n",
    "#}"
   ]
  },
  {
   "cell_type": "markdown",
   "metadata": {},
   "source": [
    "## Select parents\n",
    "There are two ways:  \n",
    "  1) Tournament selection  \n",
    "  2) Roulette selection  \n",
    "\n",
    "Here let us try tournament selection"
   ]
  },
  {
   "cell_type": "code",
   "execution_count": 26,
   "metadata": {},
   "outputs": [],
   "source": [
    "# ---------- setting\n",
    "elite_struc = None     # You can add additional parents,\n",
    "elite_fitness = None   #     if you add elite_struc and elite fitness\n",
    "fit_reverse = False    # False means minimum search\n",
    "n_fittest = 5          # number of survival of the fittest"
   ]
  },
  {
   "cell_type": "code",
   "execution_count": 27,
   "metadata": {},
   "outputs": [
    {
     "name": "stdout",
     "output_type": "stream",
     "text": [
      "Remove duplicated data\n",
      "Survival of the fittest: top 5 structures survive\n"
     ]
    }
   ],
   "source": [
    "# ---------- instantiate Select_parents class\n",
    "sp = gs.EA.Select_parents(opt_struc_data, fitness, elite_struc, elite_fitness,\n",
    "                          fit_reverse, n_fittest)"
   ]
  },
  {
   "cell_type": "markdown",
   "metadata": {},
   "source": [
    "In this setting stable 5 (=n_fittest) structures can become candidates to be selected  \n",
    "You can check survivors"
   ]
  },
  {
   "cell_type": "code",
   "execution_count": 28,
   "metadata": {},
   "outputs": [
    {
     "data": {
      "text/plain": [
       "[4, 0, 1, 2, 3]"
      ]
     },
     "execution_count": 28,
     "metadata": {},
     "output_type": "execute_result"
    }
   ],
   "source": [
    "# ---------- top 5 structures\n",
    "sp.ranking_dedupe"
   ]
  },
  {
   "cell_type": "code",
   "execution_count": 29,
   "metadata": {},
   "outputs": [],
   "source": [
    "# ---------- setting for tournament selection\n",
    "t_size = 2\n",
    "sp.set_tournament(t_size)"
   ]
  },
  {
   "cell_type": "markdown",
   "metadata": {},
   "source": [
    "## Generate offspring"
   ]
  },
  {
   "cell_type": "code",
   "execution_count": 30,
   "metadata": {},
   "outputs": [],
   "source": [
    "# ---------- setting\n",
    "symprec = 0.001  # precision for symmetry (default: 0.001)\n",
    "id_start = 5    # next structure ID (here we already have up to 4)\n",
    "init_pos_path = './POSCARS'"
   ]
  },
  {
   "cell_type": "code",
   "execution_count": 31,
   "metadata": {},
   "outputs": [],
   "source": [
    "# ---------- instantiate EA_generation class\n",
    "eagen = gs.EA.EA_generation(sp, symprec, id_start, init_pos_path)"
   ]
  },
  {
   "cell_type": "code",
   "execution_count": 32,
   "metadata": {},
   "outputs": [],
   "source": [
    "# --------- setting for crossover and strain\n",
    "atype = ['Si']\n",
    "nat = [16]\n",
    "mindist = [[1.5]]\n",
    "maxcnt_ea = 100    # default value"
   ]
  },
  {
   "cell_type": "markdown",
   "metadata": {},
   "source": [
    "## Crossover\n",
    "Let us make 5 structures by crosover operation"
   ]
  },
  {
   "cell_type": "code",
   "execution_count": 33,
   "metadata": {},
   "outputs": [],
   "source": [
    "# ---------- setting for crossover\n",
    "crs_lat = 'equal'    # 'eaual' or 'random'\n",
    "crs_func = 'OP'      # one point crossover or two point crossover (TP)\n",
    "nat_diff_tole = 4    # default"
   ]
  },
  {
   "cell_type": "code",
   "execution_count": 34,
   "metadata": {},
   "outputs": [],
   "source": [
    "# ---------- instantiate Crossover class\n",
    "co = gs.EA.Crossover(atype, nat, mindist, crs_lat, crs_func,\n",
    "               nat_diff_tole, maxcnt_ea)"
   ]
  },
  {
   "cell_type": "code",
   "execution_count": 35,
   "metadata": {},
   "outputs": [
    {
     "name": "stdout",
     "output_type": "stream",
     "text": [
      "Structure ID      5 was generated from      0 and      4 by crossover. Space group:   1 P1\n",
      "Structure ID      6 was generated from      2 and      0 by crossover. Space group:   1 P1\n",
      "Structure ID      7 was generated from      0 and      4 by crossover. Space group:   1 P1\n",
      "Structure ID      8 was generated from      1 and      4 by crossover. Space group:   1 P1\n",
      "Structure ID      9 was generated from      0 and      1 by crossover. Space group:   1 P1\n"
     ]
    }
   ],
   "source": [
    "# ---------- generate\n",
    "eagen.gen_crossover(n_crsov=5, co=co)"
   ]
  },
  {
   "cell_type": "markdown",
   "metadata": {},
   "source": [
    "You can see generated structue data in eagen.offspring (dict)"
   ]
  },
  {
   "cell_type": "code",
   "execution_count": 36,
   "metadata": {},
   "outputs": [
    {
     "data": {
      "text/plain": [
       "Structure Summary\n",
       "Lattice\n",
       "    abc : 5.127427802749827 6.903917483461704 8.996179916486279\n",
       " angles : 89.93028643440407 89.80024143620818 89.89679333732393\n",
       " volume : 318.4561322187947\n",
       "      A : 5.127057159448769 0.04295435467375591 0.04422306605830746\n",
       "      B : -0.04578507099681585 6.903622425502047 0.04447192178477887\n",
       "      C : -0.04583059794762615 -0.04730780765402335 8.995938784663766\n",
       "PeriodicSite: Si (2.9734, 4.0545, 8.0060) [0.5931, 0.5897, 0.8841]\n",
       "PeriodicSite: Si (4.0015, 4.5270, 0.4302) [0.7866, 0.6511, 0.0407]\n",
       "PeriodicSite: Si (2.9963, 0.6027, 7.9838) [0.5931, 0.0897, 0.8841]\n",
       "PeriodicSite: Si (0.6605, 5.4814, 4.9075) [0.1408, 0.7968, 0.5409]\n",
       "PeriodicSite: Si (0.3466, 0.5475, 0.7581) [0.0691, 0.0795, 0.0835]\n",
       "PeriodicSite: Si (1.6469, 3.9988, 2.9494) [0.3293, 0.5794, 0.3234]\n",
       "PeriodicSite: Si (3.2301, 1.0107, 3.5342) [0.6348, 0.1451, 0.3890]\n",
       "PeriodicSite: Si (4.2720, 5.9169, 3.1148) [0.8439, 0.8541, 0.3379]\n",
       "PeriodicSite: Si (2.9716, 2.4657, 0.9237) [0.5836, 0.3542, 0.0981]\n",
       "PeriodicSite: Si (1.7310, 0.6352, 5.4000) [0.3438, 0.0940, 0.5981]\n",
       "PeriodicSite: Si (0.4026, 5.7633, 7.1761) [0.0931, 0.8397, 0.7931]\n",
       "PeriodicSite: Si (0.6171, 1.9375, 3.4428) [0.1263, 0.2825, 0.3807]\n",
       "PeriodicSite: Si (0.4255, 2.3115, 7.1539) [0.0931, 0.3397, 0.7931]\n",
       "PeriodicSite: Si (3.1585, 4.3970, 4.7914) [0.6264, 0.6366, 0.5264]\n",
       "PeriodicSite: Si (4.2684, 2.4334, 5.4076) [0.8410, 0.3513, 0.5952]\n",
       "PeriodicSite: Si (1.3885, 5.4538, 0.3388) [0.2781, 0.7885, 0.0324]"
      ]
     },
     "execution_count": 36,
     "metadata": {},
     "output_type": "execute_result"
    }
   ],
   "source": [
    "# ---------- e.g. ID 8\n",
    "eagen.offspring[8]"
   ]
  },
  {
   "cell_type": "markdown",
   "metadata": {},
   "source": [
    "## Permutation\n",
    "we skip permutaion because of one element system"
   ]
  },
  {
   "cell_type": "code",
   "execution_count": null,
   "metadata": {},
   "outputs": [],
   "source": [
    "# # ---------- setting\n",
    "# n_times = 1    # default"
   ]
  },
  {
   "cell_type": "code",
   "execution_count": null,
   "metadata": {},
   "outputs": [],
   "source": [
    "# # ---------- instantiate Permutation class\n",
    "# pm = gs.EA.Permutation(atype, mindist, ntimes, maxcnt_ea)"
   ]
  },
  {
   "cell_type": "code",
   "execution_count": null,
   "metadata": {},
   "outputs": [],
   "source": [
    "#eagen.gen_permutation(nperm=4, pm=pm)"
   ]
  },
  {
   "cell_type": "markdown",
   "metadata": {},
   "source": [
    "## Strain\n",
    "Let us make 5 structures by strain"
   ]
  },
  {
   "cell_type": "code",
   "execution_count": 37,
   "metadata": {},
   "outputs": [],
   "source": [
    "# ---------- setting for strain\n",
    "sigma_st = 0.5    # Standard deviation for strain"
   ]
  },
  {
   "cell_type": "code",
   "execution_count": 38,
   "metadata": {},
   "outputs": [],
   "source": [
    "# ---------- instantiate Strain class\n",
    "st = gs.EA.Strain(atype, mindist, sigma_st, maxcnt_ea)"
   ]
  },
  {
   "cell_type": "code",
   "execution_count": 39,
   "metadata": {},
   "outputs": [
    {
     "name": "stdout",
     "output_type": "stream",
     "text": [
      "Structure ID     10 was generated from      0 by strain. Space group:   2 P-1\n",
      "Structure ID     11 was generated from      4 by strain. Space group:   2 P-1\n",
      "Structure ID     12 was generated from      1 by strain. Space group:   2 P-1\n",
      "Structure ID     13 was generated from      1 by strain. Space group:   2 P-1\n",
      "Structure ID     14 was generated from      1 by strain. Space group:   2 P-1\n"
     ]
    }
   ],
   "source": [
    "# ---------- generate\n",
    "eagen.gen_strain(n_strain=5, st=st)"
   ]
  },
  {
   "cell_type": "markdown",
   "metadata": {},
   "source": [
    "You can see generated structue data in eagen.offspring (dict)"
   ]
  }
 ],
 "metadata": {
  "kernelspec": {
   "display_name": "Python 3",
   "language": "python",
   "name": "python3"
  },
  "language_info": {
   "codemirror_mode": {
    "name": "ipython",
    "version": 3
   },
   "file_extension": ".py",
   "mimetype": "text/x-python",
   "name": "python",
   "nbconvert_exporter": "python",
   "pygments_lexer": "ipython3",
   "version": "3.7.5"
  },
  "toc": {
   "nav_menu": {},
   "number_sections": true,
   "sideBar": true,
   "skip_h1_title": false,
   "toc_cell": false,
   "toc_position": {},
   "toc_section_display": true,
   "toc_window_display": false
  },
  "varInspector": {
   "cols": {
    "lenName": 16,
    "lenType": 16,
    "lenVar": 40
   },
   "kernels_config": {
    "python": {
     "delete_cmd_postfix": "",
     "delete_cmd_prefix": "del ",
     "library": "var_list.py",
     "varRefreshCmd": "print(var_dic_list())"
    },
    "r": {
     "delete_cmd_postfix": ") ",
     "delete_cmd_prefix": "rm(",
     "library": "var_list.r",
     "varRefreshCmd": "cat(var_dic_list()) "
    }
   },
   "types_to_exclude": [
    "module",
    "function",
    "builtin_function_or_method",
    "instance",
    "_Feature"
   ],
   "window_display": false
  }
 },
 "nbformat": 4,
 "nbformat_minor": 4
}
